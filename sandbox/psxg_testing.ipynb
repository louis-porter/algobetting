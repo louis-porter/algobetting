{
 "cells": [
  {
   "cell_type": "code",
   "execution_count": 11,
   "id": "7077cee4",
   "metadata": {},
   "outputs": [
    {
     "data": {
      "application/vnd.microsoft.datawrangler.viewer.v0+json": {
       "columns": [
        {
         "name": "index",
         "rawType": "int64",
         "type": "integer"
        },
        {
         "name": "team",
         "rawType": "object",
         "type": "string"
        },
        {
         "name": "xg",
         "rawType": "float64",
         "type": "float"
        },
        {
         "name": "goals",
         "rawType": "float64",
         "type": "float"
        },
        {
         "name": "psxg",
         "rawType": "float64",
         "type": "float"
        },
        {
         "name": "date",
         "rawType": "object",
         "type": "string"
        }
       ],
       "ref": "353f86f8-5909-47b2-b374-f6da4a6e5af2",
       "rows": [
        [
         "0",
         "Tottenham",
         "2.0",
         "1.0",
         "1.5",
         "2025-05-25"
        ],
        [
         "1",
         "Brighton",
         "2.2",
         "4.0",
         "4.1",
         "2025-05-25"
        ],
        [
         "2",
         "Bournemouth",
         "1.6",
         "2.0",
         "2.1",
         "2025-05-25"
        ],
        [
         "3",
         "Leicester City",
         "0.3",
         "0.0",
         "0.0",
         "2025-05-25"
        ],
        [
         "4",
         "Newcastle Utd",
         "1.2",
         "0.0",
         "1.7",
         "2025-05-25"
        ],
        [
         "5",
         "Everton",
         "1.2",
         "1.0",
         "1.1",
         "2025-05-25"
        ],
        [
         "6",
         "Fulham",
         "1.3",
         "0.0",
         "1.3",
         "2025-05-25"
        ],
        [
         "7",
         "Manchester City",
         "3.1",
         "2.0",
         "2.3",
         "2025-05-25"
        ],
        [
         "8",
         "Nott'ham Forest",
         "1.2",
         "0.0",
         "0.1",
         "2025-05-25"
        ],
        [
         "9",
         "Chelsea",
         "1.1",
         "1.0",
         "1.1",
         "2025-05-25"
        ],
        [
         "10",
         "Liverpool",
         "2.1",
         "1.0",
         "1.4",
         "2025-05-25"
        ],
        [
         "11",
         "Crystal Palace",
         "1.8",
         "1.0",
         "2.3",
         "2025-05-25"
        ],
        [
         "12",
         "Southampton",
         "0.6",
         "1.0",
         "0.8",
         "2025-05-25"
        ],
        [
         "13",
         "Arsenal",
         "2.4",
         "2.0",
         "1.3",
         "2025-05-25"
        ],
        [
         "14",
         "Wolves",
         "1.0",
         "1.0",
         "0.5",
         "2025-05-25"
        ],
        [
         "15",
         "Brentford",
         "1.4",
         "1.0",
         "1.8",
         "2025-05-25"
        ],
        [
         "16",
         "Ipswich Town",
         "0.7",
         "1.0",
         "0.2",
         "2025-05-25"
        ],
        [
         "17",
         "West Ham",
         "1.1",
         "3.0",
         "2.0",
         "2025-05-25"
        ],
        [
         "18",
         "Manchester Utd",
         "2.9",
         "2.0",
         "0.7",
         "2025-05-25"
        ],
        [
         "19",
         "Aston Villa",
         "0.4",
         "0.0",
         "0.0",
         "2025-05-25"
        ],
        [
         "20",
         "Crystal Palace",
         "1.7",
         "4.0",
         "3.8",
         "2025-05-20"
        ],
        [
         "21",
         "Wolves",
         "1.4",
         "2.0",
         "2.0",
         "2025-05-20"
        ],
        [
         "22",
         "Manchester City",
         "1.5",
         "3.0",
         "1.5",
         "2025-05-20"
        ],
        [
         "23",
         "Bournemouth",
         "1.1",
         "1.0",
         "0.9",
         "2025-05-20"
        ],
        [
         "24",
         "Brighton",
         "2.2",
         "3.0",
         "3.9",
         "2025-05-19"
        ],
        [
         "25",
         "Liverpool",
         "2.2",
         "2.0",
         "1.5",
         "2025-05-19"
        ],
        [
         "26",
         "Arsenal",
         "0.6",
         "1.0",
         "1.3",
         "2025-05-18"
        ],
        [
         "27",
         "Newcastle Utd",
         "1.8",
         "0.0",
         "1.4",
         "2025-05-18"
        ],
        [
         "28",
         "Leicester City",
         "0.8",
         "2.0",
         "0.8",
         "2025-05-18"
        ],
        [
         "29",
         "Ipswich Town",
         "1.4",
         "0.0",
         "0.3",
         "2025-05-18"
        ],
        [
         "30",
         "Brentford",
         "2.9",
         "2.0",
         "2.7",
         "2025-05-18"
        ],
        [
         "31",
         "Fulham",
         "1.0",
         "3.0",
         "1.9",
         "2025-05-18"
        ],
        [
         "32",
         "West Ham",
         "1.1",
         "1.0",
         "1.1",
         "2025-05-18"
        ],
        [
         "33",
         "Nott'ham Forest",
         "2.0",
         "2.0",
         "2.6",
         "2025-05-18"
        ],
        [
         "34",
         "Everton",
         "2.7",
         "2.0",
         "2.6",
         "2025-05-18"
        ],
        [
         "35",
         "Southampton",
         "1.3",
         "0.0",
         "1.2",
         "2025-05-18"
        ],
        [
         "36",
         "Chelsea",
         "0.8",
         "1.0",
         "0.8",
         "2025-05-16"
        ],
        [
         "37",
         "Manchester Utd",
         "0.3",
         "0.0",
         "0.2",
         "2025-05-16"
        ],
        [
         "38",
         "Aston Villa",
         "1.4",
         "2.0",
         "2.2",
         "2025-05-16"
        ],
        [
         "39",
         "Tottenham",
         "0.5",
         "0.0",
         "0.2",
         "2025-05-16"
        ],
        [
         "40",
         "Liverpool",
         "2.4",
         "2.0",
         "2.7",
         "2025-05-11"
        ],
        [
         "41",
         "Arsenal",
         "2.6",
         "2.0",
         "2.3",
         "2025-05-11"
        ],
        [
         "42",
         "Manchester Utd",
         "2.2",
         "0.0",
         "1.2",
         "2025-05-11"
        ],
        [
         "43",
         "West Ham",
         "1.8",
         "2.0",
         "3.0",
         "2025-05-11"
        ],
        [
         "44",
         "Tottenham",
         "0.7",
         "0.0",
         "0.0",
         "2025-05-11"
        ],
        [
         "45",
         "Crystal Palace",
         "3.4",
         "2.0",
         "3.7",
         "2025-05-11"
        ],
        [
         "46",
         "Nott'ham Forest",
         "1.3",
         "2.0",
         "1.7",
         "2025-05-11"
        ],
        [
         "47",
         "Leicester City",
         "1.1",
         "2.0",
         "1.9",
         "2025-05-11"
        ],
        [
         "48",
         "Newcastle Utd",
         "1.6",
         "2.0",
         "1.8",
         "2025-05-11"
        ],
        [
         "49",
         "Chelsea",
         "0.7",
         "0.0",
         "0.5",
         "2025-05-11"
        ]
       ],
       "shape": {
        "columns": 5,
        "rows": 6076
       }
      },
      "text/html": [
       "<div>\n",
       "<style scoped>\n",
       "    .dataframe tbody tr th:only-of-type {\n",
       "        vertical-align: middle;\n",
       "    }\n",
       "\n",
       "    .dataframe tbody tr th {\n",
       "        vertical-align: top;\n",
       "    }\n",
       "\n",
       "    .dataframe thead th {\n",
       "        text-align: right;\n",
       "    }\n",
       "</style>\n",
       "<table border=\"1\" class=\"dataframe\">\n",
       "  <thead>\n",
       "    <tr style=\"text-align: right;\">\n",
       "      <th></th>\n",
       "      <th>team</th>\n",
       "      <th>xg</th>\n",
       "      <th>goals</th>\n",
       "      <th>psxg</th>\n",
       "      <th>date</th>\n",
       "    </tr>\n",
       "  </thead>\n",
       "  <tbody>\n",
       "    <tr>\n",
       "      <th>0</th>\n",
       "      <td>Tottenham</td>\n",
       "      <td>2.0</td>\n",
       "      <td>1.0</td>\n",
       "      <td>1.5</td>\n",
       "      <td>2025-05-25</td>\n",
       "    </tr>\n",
       "    <tr>\n",
       "      <th>1</th>\n",
       "      <td>Brighton</td>\n",
       "      <td>2.2</td>\n",
       "      <td>4.0</td>\n",
       "      <td>4.1</td>\n",
       "      <td>2025-05-25</td>\n",
       "    </tr>\n",
       "    <tr>\n",
       "      <th>2</th>\n",
       "      <td>Bournemouth</td>\n",
       "      <td>1.6</td>\n",
       "      <td>2.0</td>\n",
       "      <td>2.1</td>\n",
       "      <td>2025-05-25</td>\n",
       "    </tr>\n",
       "    <tr>\n",
       "      <th>3</th>\n",
       "      <td>Leicester City</td>\n",
       "      <td>0.3</td>\n",
       "      <td>0.0</td>\n",
       "      <td>0.0</td>\n",
       "      <td>2025-05-25</td>\n",
       "    </tr>\n",
       "    <tr>\n",
       "      <th>4</th>\n",
       "      <td>Newcastle Utd</td>\n",
       "      <td>1.2</td>\n",
       "      <td>0.0</td>\n",
       "      <td>1.7</td>\n",
       "      <td>2025-05-25</td>\n",
       "    </tr>\n",
       "    <tr>\n",
       "      <th>...</th>\n",
       "      <td>...</td>\n",
       "      <td>...</td>\n",
       "      <td>...</td>\n",
       "      <td>...</td>\n",
       "      <td>...</td>\n",
       "    </tr>\n",
       "    <tr>\n",
       "      <th>6071</th>\n",
       "      <td>Leeds United</td>\n",
       "      <td>0.3</td>\n",
       "      <td>3.0</td>\n",
       "      <td>0.5</td>\n",
       "      <td>2020-09-12</td>\n",
       "    </tr>\n",
       "    <tr>\n",
       "      <th>6072</th>\n",
       "      <td>Crystal Palace</td>\n",
       "      <td>1.1</td>\n",
       "      <td>1.0</td>\n",
       "      <td>0.8</td>\n",
       "      <td>2020-09-12</td>\n",
       "    </tr>\n",
       "    <tr>\n",
       "      <th>6073</th>\n",
       "      <td>Southampton</td>\n",
       "      <td>0.9</td>\n",
       "      <td>0.0</td>\n",
       "      <td>0.4</td>\n",
       "      <td>2020-09-12</td>\n",
       "    </tr>\n",
       "    <tr>\n",
       "      <th>6074</th>\n",
       "      <td>Fulham</td>\n",
       "      <td>0.1</td>\n",
       "      <td>0.0</td>\n",
       "      <td>0.1</td>\n",
       "      <td>2020-09-12</td>\n",
       "    </tr>\n",
       "    <tr>\n",
       "      <th>6075</th>\n",
       "      <td>Arsenal</td>\n",
       "      <td>2.6</td>\n",
       "      <td>3.0</td>\n",
       "      <td>1.8</td>\n",
       "      <td>2020-09-12</td>\n",
       "    </tr>\n",
       "  </tbody>\n",
       "</table>\n",
       "<p>6076 rows × 5 columns</p>\n",
       "</div>"
      ],
      "text/plain": [
       "                team   xg  goals  psxg        date\n",
       "0          Tottenham  2.0    1.0   1.5  2025-05-25\n",
       "1           Brighton  2.2    4.0   4.1  2025-05-25\n",
       "2        Bournemouth  1.6    2.0   2.1  2025-05-25\n",
       "3     Leicester City  0.3    0.0   0.0  2025-05-25\n",
       "4      Newcastle Utd  1.2    0.0   1.7  2025-05-25\n",
       "...              ...  ...    ...   ...         ...\n",
       "6071    Leeds United  0.3    3.0   0.5  2020-09-12\n",
       "6072  Crystal Palace  1.1    1.0   0.8  2020-09-12\n",
       "6073     Southampton  0.9    0.0   0.4  2020-09-12\n",
       "6074          Fulham  0.1    0.0   0.1  2020-09-12\n",
       "6075         Arsenal  2.6    3.0   1.8  2020-09-12\n",
       "\n",
       "[6076 rows x 5 columns]"
      ]
     },
     "execution_count": 11,
     "metadata": {},
     "output_type": "execute_result"
    }
   ],
   "source": [
    "import numpy as np\n",
    "import pandas as pd\n",
    "from scipy.optimize import minimize\n",
    "from scipy.special import factorial\n",
    "from datetime import datetime, timedelta\n",
    "import warnings\n",
    "warnings.filterwarnings('ignore')\n",
    "import sqlite3\n",
    "\n",
    "conn = sqlite3.connect(r'C:\\Users\\Owner\\dev\\algobetting\\infra\\data\\db\\algobetting.db')\n",
    "\n",
    "df = pd.read_sql_query(\"\"\"\n",
    "                SELECT \n",
    "                    team,\n",
    "                    summary_xg as xg,\n",
    "                    summary_goals as goals,\n",
    "                    keeper_psxg as psxg,\n",
    "                    match_date as date\n",
    "                FROM fbref_match_all_columns\n",
    "                WHERE division = 'Premier League'\n",
    "                    AND summary_xg IS NOT NULL\n",
    "                    AND opp_summary_xg IS NOT NULL\n",
    "                       \"\"\", conn)\n",
    "\n",
    "conn.close()\n",
    "\n",
    "df"
   ]
  },
  {
   "cell_type": "code",
   "execution_count": 18,
   "id": "60dee751",
   "metadata": {},
   "outputs": [
    {
     "name": "stdout",
     "output_type": "stream",
     "text": [
      "Goals -> Future Goals: 0.734\n",
      "xG -> Future Goals: 0.745\n",
      "PSxG -> Future Goals: 0.741\n",
      "\n",
      "PSxG beats xG by: -0.004\n",
      "Sample size: 258 periods\n"
     ]
    },
    {
     "data": {
      "application/vnd.microsoft.datawrangler.viewer.v0+json": {
       "columns": [
        {
         "name": "index",
         "rawType": "int64",
         "type": "integer"
        },
        {
         "name": "team",
         "rawType": "object",
         "type": "string"
        },
        {
         "name": "p1_goals_per_game",
         "rawType": "float64",
         "type": "float"
        },
        {
         "name": "p1_xg_per_game",
         "rawType": "float64",
         "type": "float"
        },
        {
         "name": "p1_psxg_per_game",
         "rawType": "float64",
         "type": "float"
        },
        {
         "name": "p2_goals_per_game",
         "rawType": "float64",
         "type": "float"
        }
       ],
       "ref": "c30b13e2-30a3-40f5-8b4b-dba003118914",
       "rows": [
        [
         "0",
         "Tottenham",
         "1.95",
         "1.72",
         "1.815",
         "2.0"
        ],
        [
         "1",
         "Tottenham",
         "2.0",
         "1.815",
         "2.035",
         "2.05"
        ],
        [
         "2",
         "Tottenham",
         "2.05",
         "1.435",
         "1.6600000000000001",
         "1.4"
        ],
        [
         "3",
         "Tottenham",
         "1.4",
         "1.405",
         "1.255",
         "1.55"
        ],
        [
         "4",
         "Tottenham",
         "1.55",
         "1.31",
         "1.315",
         "1.95"
        ],
        [
         "5",
         "Tottenham",
         "1.95",
         "1.4500000000000002",
         "1.6",
         "1.3"
        ],
        [
         "6",
         "Tottenham",
         "1.3",
         "1.1",
         "0.9549999999999997",
         "1.75"
        ],
        [
         "7",
         "Tottenham",
         "1.75",
         "1.4300000000000002",
         "1.5350000000000001",
         "1.75"
        ],
        [
         "8",
         "Tottenham",
         "1.75",
         "1.7550000000000001",
         "1.8199999999999998",
         "2.35"
        ],
        [
         "9",
         "Tottenham",
         "2.35",
         "1.8049999999999997",
         "1.7850000000000001",
         "1.65"
        ],
        [
         "10",
         "Tottenham",
         "1.65",
         "1.34",
         "1.4",
         "1.95"
        ],
        [
         "11",
         "Tottenham",
         "1.95",
         "1.6650000000000003",
         "1.705",
         "2.05"
        ],
        [
         "12",
         "Tottenham",
         "2.05",
         "1.85",
         "1.6750000000000003",
         "1.85"
        ],
        [
         "13",
         "Tottenham",
         "1.85",
         "1.9449999999999998",
         "1.6099999999999999",
         "1.7"
        ],
        [
         "14",
         "Brighton",
         "0.75",
         "0.805",
         "0.595",
         "1.1"
        ],
        [
         "15",
         "Brighton",
         "1.1",
         "1.1749999999999998",
         "1.195",
         "1.05"
        ],
        [
         "16",
         "Brighton",
         "1.05",
         "0.96",
         "0.93",
         "0.75"
        ],
        [
         "17",
         "Brighton",
         "0.75",
         "0.975",
         "0.7",
         "1.15"
        ],
        [
         "18",
         "Brighton",
         "1.15",
         "1.3250000000000002",
         "1.0450000000000004",
         "1.1"
        ],
        [
         "19",
         "Brighton",
         "1.1",
         "1.215",
         "1.0150000000000001",
         "0.8"
        ],
        [
         "20",
         "Brighton",
         "0.8",
         "1.5299999999999998",
         "1.0950000000000002",
         "1.1"
        ],
        [
         "21",
         "Brighton",
         "1.1",
         "1.0000000000000002",
         "0.85",
         "0.9"
        ],
        [
         "22",
         "Brighton",
         "0.9",
         "1.195",
         "1.045",
         "1.5"
        ],
        [
         "23",
         "Brighton",
         "1.5",
         "1.6199999999999999",
         "1.445",
         "2.05"
        ],
        [
         "24",
         "Brighton",
         "2.05",
         "2.075",
         "1.7149999999999999",
         "2.1"
        ],
        [
         "25",
         "Brighton",
         "2.1",
         "1.9249999999999996",
         "1.8800000000000001",
         "1.35"
        ],
        [
         "26",
         "Brighton",
         "1.35",
         "1.42",
         "1.645",
         "1.3"
        ],
        [
         "27",
         "Brighton",
         "1.3",
         "1.47",
         "1.415",
         "1.65"
        ],
        [
         "28",
         "Bournemouth",
         "0.9",
         "0.8800000000000001",
         "0.9100000000000001",
         "1.55"
        ],
        [
         "29",
         "Bournemouth",
         "1.55",
         "1.2599999999999998",
         "1.31",
         "1.35"
        ],
        [
         "30",
         "Bournemouth",
         "1.35",
         "1.3750000000000002",
         "1.3850000000000002",
         "1.5"
        ],
        [
         "31",
         "Bournemouth",
         "1.5",
         "1.4600000000000002",
         "1.56",
         "0.9"
        ],
        [
         "32",
         "Bournemouth",
         "0.9",
         "0.9799999999999999",
         "0.7750000000000001",
         "1.1"
        ],
        [
         "33",
         "Bournemouth",
         "1.1",
         "1.125",
         "0.9550000000000003",
         "1.0"
        ],
        [
         "34",
         "Bournemouth",
         "1.0",
         "1.0",
         "0.9099999999999999",
         "0.85"
        ],
        [
         "35",
         "Bournemouth",
         "0.85",
         "1.3050000000000002",
         "1.06",
         "1.8"
        ],
        [
         "36",
         "Bournemouth",
         "1.8",
         "1.7150000000000003",
         "1.5349999999999997",
         "1.3"
        ],
        [
         "37",
         "Bournemouth",
         "1.3",
         "1.5250000000000001",
         "1.31",
         "1.8"
        ],
        [
         "38",
         "Leicester City",
         "1.5",
         "1.2799999999999998",
         "1.2399999999999998",
         "1.45"
        ],
        [
         "39",
         "Leicester City",
         "1.45",
         "1.38",
         "1.19",
         "1.15"
        ],
        [
         "40",
         "Leicester City",
         "1.15",
         "1.29",
         "1.27",
         "1.55"
        ],
        [
         "41",
         "Leicester City",
         "1.55",
         "1.495",
         "1.475",
         "2.3"
        ],
        [
         "42",
         "Leicester City",
         "2.3",
         "1.935",
         "2.065",
         "1.4"
        ],
        [
         "43",
         "Leicester City",
         "1.4",
         "1.45",
         "1.3699999999999999",
         "1.6"
        ],
        [
         "44",
         "Leicester City",
         "1.6",
         "1.46",
         "1.345",
         "1.8"
        ],
        [
         "45",
         "Leicester City",
         "1.8",
         "1.49",
         "1.51",
         "1.5"
        ],
        [
         "46",
         "Leicester City",
         "1.5",
         "1.255",
         "1.445",
         "1.7"
        ],
        [
         "47",
         "Leicester City",
         "1.7",
         "1.225",
         "1.31",
         "1.25"
        ],
        [
         "48",
         "Leicester City",
         "1.25",
         "1.235",
         "0.95",
         "1.3"
        ],
        [
         "49",
         "Leicester City",
         "1.3",
         "1.4000000000000001",
         "1.3800000000000001",
         "0.6"
        ]
       ],
       "shape": {
        "columns": 5,
        "rows": 258
       }
      },
      "text/html": [
       "<div>\n",
       "<style scoped>\n",
       "    .dataframe tbody tr th:only-of-type {\n",
       "        vertical-align: middle;\n",
       "    }\n",
       "\n",
       "    .dataframe tbody tr th {\n",
       "        vertical-align: top;\n",
       "    }\n",
       "\n",
       "    .dataframe thead th {\n",
       "        text-align: right;\n",
       "    }\n",
       "</style>\n",
       "<table border=\"1\" class=\"dataframe\">\n",
       "  <thead>\n",
       "    <tr style=\"text-align: right;\">\n",
       "      <th></th>\n",
       "      <th>team</th>\n",
       "      <th>p1_goals_per_game</th>\n",
       "      <th>p1_xg_per_game</th>\n",
       "      <th>p1_psxg_per_game</th>\n",
       "      <th>p2_goals_per_game</th>\n",
       "    </tr>\n",
       "  </thead>\n",
       "  <tbody>\n",
       "    <tr>\n",
       "      <th>0</th>\n",
       "      <td>Tottenham</td>\n",
       "      <td>1.95</td>\n",
       "      <td>1.720</td>\n",
       "      <td>1.815</td>\n",
       "      <td>2.00</td>\n",
       "    </tr>\n",
       "    <tr>\n",
       "      <th>1</th>\n",
       "      <td>Tottenham</td>\n",
       "      <td>2.00</td>\n",
       "      <td>1.815</td>\n",
       "      <td>2.035</td>\n",
       "      <td>2.05</td>\n",
       "    </tr>\n",
       "    <tr>\n",
       "      <th>2</th>\n",
       "      <td>Tottenham</td>\n",
       "      <td>2.05</td>\n",
       "      <td>1.435</td>\n",
       "      <td>1.660</td>\n",
       "      <td>1.40</td>\n",
       "    </tr>\n",
       "    <tr>\n",
       "      <th>3</th>\n",
       "      <td>Tottenham</td>\n",
       "      <td>1.40</td>\n",
       "      <td>1.405</td>\n",
       "      <td>1.255</td>\n",
       "      <td>1.55</td>\n",
       "    </tr>\n",
       "    <tr>\n",
       "      <th>4</th>\n",
       "      <td>Tottenham</td>\n",
       "      <td>1.55</td>\n",
       "      <td>1.310</td>\n",
       "      <td>1.315</td>\n",
       "      <td>1.95</td>\n",
       "    </tr>\n",
       "    <tr>\n",
       "      <th>...</th>\n",
       "      <td>...</td>\n",
       "      <td>...</td>\n",
       "      <td>...</td>\n",
       "      <td>...</td>\n",
       "      <td>...</td>\n",
       "    </tr>\n",
       "    <tr>\n",
       "      <th>253</th>\n",
       "      <td>Norwich City</td>\n",
       "      <td>0.25</td>\n",
       "      <td>0.965</td>\n",
       "      <td>0.660</td>\n",
       "      <td>0.65</td>\n",
       "    </tr>\n",
       "    <tr>\n",
       "      <th>254</th>\n",
       "      <td>Leeds United</td>\n",
       "      <td>1.75</td>\n",
       "      <td>1.565</td>\n",
       "      <td>1.715</td>\n",
       "      <td>1.50</td>\n",
       "    </tr>\n",
       "    <tr>\n",
       "      <th>255</th>\n",
       "      <td>Leeds United</td>\n",
       "      <td>1.50</td>\n",
       "      <td>1.330</td>\n",
       "      <td>1.415</td>\n",
       "      <td>1.20</td>\n",
       "    </tr>\n",
       "    <tr>\n",
       "      <th>256</th>\n",
       "      <td>Leeds United</td>\n",
       "      <td>1.20</td>\n",
       "      <td>1.275</td>\n",
       "      <td>1.180</td>\n",
       "      <td>1.10</td>\n",
       "    </tr>\n",
       "    <tr>\n",
       "      <th>257</th>\n",
       "      <td>Leeds United</td>\n",
       "      <td>1.10</td>\n",
       "      <td>1.240</td>\n",
       "      <td>1.050</td>\n",
       "      <td>1.10</td>\n",
       "    </tr>\n",
       "  </tbody>\n",
       "</table>\n",
       "<p>258 rows × 5 columns</p>\n",
       "</div>"
      ],
      "text/plain": [
       "             team  p1_goals_per_game  p1_xg_per_game  p1_psxg_per_game  \\\n",
       "0       Tottenham               1.95           1.720             1.815   \n",
       "1       Tottenham               2.00           1.815             2.035   \n",
       "2       Tottenham               2.05           1.435             1.660   \n",
       "3       Tottenham               1.40           1.405             1.255   \n",
       "4       Tottenham               1.55           1.310             1.315   \n",
       "..            ...                ...             ...               ...   \n",
       "253  Norwich City               0.25           0.965             0.660   \n",
       "254  Leeds United               1.75           1.565             1.715   \n",
       "255  Leeds United               1.50           1.330             1.415   \n",
       "256  Leeds United               1.20           1.275             1.180   \n",
       "257  Leeds United               1.10           1.240             1.050   \n",
       "\n",
       "     p2_goals_per_game  \n",
       "0                 2.00  \n",
       "1                 2.05  \n",
       "2                 1.40  \n",
       "3                 1.55  \n",
       "4                 1.95  \n",
       "..                 ...  \n",
       "253               0.65  \n",
       "254               1.50  \n",
       "255               1.20  \n",
       "256               1.10  \n",
       "257               1.10  \n",
       "\n",
       "[258 rows x 5 columns]"
      ]
     },
     "execution_count": 18,
     "metadata": {},
     "output_type": "execute_result"
    }
   ],
   "source": [
    "import pandas as pd\n",
    "import numpy as np\n",
    "from scipy.stats import pearsonr\n",
    "\n",
    "def match_level_correlation(df, games_per_period=20):\n",
    "    \"\"\"\n",
    "    df: DataFrame with columns [team_id, match_date, goals, xg, psxg]\n",
    "    Split each team's matches into periods and test correlations\n",
    "    \"\"\"\n",
    "    \n",
    "    results = []\n",
    "    \n",
    "    for team in df['team'].unique():\n",
    "        team_data = df[df['team'] == team].sort_values('date')\n",
    "        \n",
    "        # Create rolling periods\n",
    "        for i in range(games_per_period, len(team_data) - games_per_period, games_per_period):\n",
    "            period1 = team_data.iloc[i-games_per_period:i]\n",
    "            period2 = team_data.iloc[i:i+games_per_period]\n",
    "            \n",
    "            results.append({\n",
    "                'team': team,\n",
    "                'p1_goals_per_game': period1['goals'].mean(),\n",
    "                'p1_xg_per_game': period1['xg'].mean(),\n",
    "                'p1_psxg_per_game': period1['psxg'].mean(),\n",
    "                'p2_goals_per_game': period2['goals'].mean()\n",
    "            })\n",
    "    \n",
    "    analysis_df = pd.DataFrame(results)\n",
    "    \n",
    "    if len(analysis_df) < 30:\n",
    "        print(f\"Warning: Only {len(analysis_df)} periods found. Need more data.\")\n",
    "        return analysis_df\n",
    "    \n",
    "    # Calculate correlations\n",
    "    goal_corr = pearsonr(analysis_df['p1_goals_per_game'], analysis_df['p2_goals_per_game'])[0]\n",
    "    xg_corr = pearsonr(analysis_df['p1_xg_per_game'], analysis_df['p2_goals_per_game'])[0]  \n",
    "    psxg_corr = pearsonr(analysis_df['p1_psxg_per_game'], analysis_df['p2_goals_per_game'])[0]\n",
    "    \n",
    "    print(f\"Goals -> Future Goals: {goal_corr:.3f}\")\n",
    "    print(f\"xG -> Future Goals: {xg_corr:.3f}\")\n",
    "    print(f\"PSxG -> Future Goals: {psxg_corr:.3f}\")\n",
    "    print(f\"\\nPSxG beats xG by: {psxg_corr - xg_corr:.3f}\")\n",
    "    print(f\"Sample size: {len(analysis_df)} periods\")\n",
    "    \n",
    "    return analysis_df\n",
    "\n",
    "# Usage:\n",
    "match_level_correlation(df)"
   ]
  }
 ],
 "metadata": {
  "kernelspec": {
   "display_name": "Python 3",
   "language": "python",
   "name": "python3"
  },
  "language_info": {
   "codemirror_mode": {
    "name": "ipython",
    "version": 3
   },
   "file_extension": ".py",
   "mimetype": "text/x-python",
   "name": "python",
   "nbconvert_exporter": "python",
   "pygments_lexer": "ipython3",
   "version": "3.12.2"
  }
 },
 "nbformat": 4,
 "nbformat_minor": 5
}
