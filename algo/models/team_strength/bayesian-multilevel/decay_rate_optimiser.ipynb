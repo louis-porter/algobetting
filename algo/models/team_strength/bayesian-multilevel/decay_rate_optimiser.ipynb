{
 "cells": [
  {
   "cell_type": "code",
   "execution_count": 1,
   "id": "270c8e46",
   "metadata": {},
   "outputs": [],
   "source": [
    "import pandas as pd\n",
    "import numpy as np\n",
    "import matplotlib.pyplot as plt\n",
    "\n",
    "\n",
    "def test_decay_single_season(db_path, league, season, decay_rates, \n",
    "                           test_points=[90, 120, 150, 210, -35],\n",
    "                           trace=1000, tune=500):\n",
    "   \"\"\"Test decay rates at multiple points for a single season\"\"\"\n",
    "   \n",
    "   from src.data_utils import load_and_process_data\n",
    "   from src.model import build_and_sample_model\n",
    "   from scipy.stats import poisson\n",
    "   \n",
    "   # Get season dates first\n",
    "   df_sample, _, _ = load_and_process_data(\n",
    "       db_path=db_path, league=league, season=season,\n",
    "       decay_rate=0.001, max_goals=9,\n",
    "       goals_weight=0.2, xg_weight=0.5, psxg_weight=0.3\n",
    "   )\n",
    "   \n",
    "   if not pd.api.types.is_datetime64_any_dtype(df_sample['match_date']):\n",
    "       df_sample['match_date'] = pd.to_datetime(df_sample['match_date'])\n",
    "   \n",
    "   actual_df = df_sample[df_sample['is_actual'] == True]\n",
    "   season_start = actual_df['match_date'].min()\n",
    "   season_end = actual_df['match_date'].max()\n",
    "   \n",
    "   season_results = []\n",
    "   \n",
    "   for decay_rate in decay_rates:\n",
    "       period_scores = []\n",
    "       \n",
    "       for test_point in test_points:\n",
    "           # Calculate test date\n",
    "           if test_point < 0:\n",
    "               test_date = season_end + pd.Timedelta(days=test_point)\n",
    "           else:\n",
    "               test_date = season_start + pd.Timedelta(days=test_point)\n",
    "           \n",
    "           # Skip invalid dates\n",
    "           if test_date < season_start + pd.Timedelta(days=60) or \\\n",
    "              test_date > season_end - pd.Timedelta(days=20):\n",
    "               continue\n",
    "           \n",
    "           try:\n",
    "               # Load data with this decay rate\n",
    "               df, team_mapping, n_teams = load_and_process_data(\n",
    "                   db_path=db_path, league=league, season=season,\n",
    "                   decay_rate=decay_rate, max_goals=9,\n",
    "                   goals_weight=0.2, xg_weight=0.5, psxg_weight=0.3\n",
    "               )\n",
    "               \n",
    "               if not pd.api.types.is_datetime64_any_dtype(df['match_date']):\n",
    "                   df['match_date'] = pd.to_datetime(df['match_date'])\n",
    "               \n",
    "               # Split data\n",
    "               train_df = df[df['match_date'] <= test_date].copy()\n",
    "               val_df = df[(df['match_date'] > test_date) & \n",
    "                          (df['match_date'] <= test_date + pd.Timedelta(days=35))].copy()\n",
    "               val_df = val_df[val_df['is_actual'] == True]\n",
    "               \n",
    "               if len(train_df[train_df['is_actual']==True]) < 50 or len(val_df) < 10:\n",
    "                   continue\n",
    "               \n",
    "               # Train model\n",
    "               model, trace_result = build_and_sample_model(\n",
    "                   train_df, n_teams, trace=trace, tune=tune\n",
    "               )\n",
    "               \n",
    "               # Extract parameters and predict\n",
    "               home_adv = trace_result.posterior['home_adv'].mean().values\n",
    "               baseline = trace_result.posterior['baseline'].mean().values\n",
    "               att_str = trace_result.posterior['att_str'].mean(dim=['chain', 'draw']).values\n",
    "               def_str = trace_result.posterior['def_str'].mean(dim=['chain', 'draw']).values\n",
    "               \n",
    "               # Evaluate\n",
    "               val_predictions = []\n",
    "               for _, match in val_df.iterrows():\n",
    "                   home_mu = np.exp(baseline + att_str[match['home_idx']] + \n",
    "                                   def_str[match['away_idx']] + home_adv)\n",
    "                   away_mu = np.exp(baseline + att_str[match['away_idx']] + \n",
    "                                   def_str[match['home_idx']])\n",
    "                   val_predictions.append({\n",
    "                       'home_mu': home_mu, 'away_mu': away_mu,\n",
    "                       'home_actual': match['home_goals'],\n",
    "                       'away_actual': match['away_goals']\n",
    "                   })\n",
    "               \n",
    "               pred_df = pd.DataFrame(val_predictions)\n",
    "               home_ll = poisson.logpmf(pred_df['home_actual'], pred_df['home_mu']).mean()\n",
    "               away_ll = poisson.logpmf(pred_df['away_actual'], pred_df['away_mu']).mean()\n",
    "               total_ll = home_ll + away_ll\n",
    "               \n",
    "               period_scores.append(total_ll)\n",
    "               \n",
    "           except Exception as e:\n",
    "               continue\n",
    "       \n",
    "       if period_scores:\n",
    "           season_results.append({\n",
    "               'decay_rate': decay_rate,\n",
    "               'avg_ll': np.mean(period_scores),\n",
    "               'std_ll': np.std(period_scores),\n",
    "               'n_periods': len(period_scores)\n",
    "           })\n",
    "   \n",
    "   return season_results"
   ]
  },
  {
   "cell_type": "code",
   "execution_count": 2,
   "id": "8f82a388",
   "metadata": {},
   "outputs": [],
   "source": [
    "def run_multi_season_test():\n",
    "   db_path = r'C:\\Users\\Owner\\dev\\algobetting\\infra\\data\\db\\fotmob.db'\n",
    "   league = 'Premier_League'\n",
    "   \n",
    "   # Test multiple seasons\n",
    "   seasons = ['2022-2023', '2023-2024', '2021-2022', '2024-2025']\n",
    "   decay_rates = [0.0001, 0.0005, 0.001, 0.002, 0.0035, 0.005, 0.01]\n",
    "   \n",
    "   all_results = []\n",
    "   \n",
    "   for season in seasons:\n",
    "       print(f\"\\n{'='*70}\")\n",
    "       print(f\"Testing {league} {season}\")\n",
    "       print('='*70)\n",
    "       \n",
    "       season_results = test_decay_single_season(\n",
    "           db_path, league, season, decay_rates,\n",
    "           test_points=[90, 120, 150, 210, -35],  # Test at 3,4,5,7 months and end\n",
    "           trace=500, tune=250  # Smaller for speed\n",
    "       )\n",
    "       \n",
    "       # Add season info to results\n",
    "       for result in season_results:\n",
    "           result['season'] = season\n",
    "           result['league'] = league\n",
    "           all_results.append(result)\n",
    "       \n",
    "       # Print season summary\n",
    "       if season_results:\n",
    "           season_df = pd.DataFrame(season_results)\n",
    "           best_idx = season_df['avg_ll'].idxmax()\n",
    "           best = season_df.loc[best_idx]\n",
    "           \n",
    "           print(f\"\\n{season} Results:\")\n",
    "           print(\"Decay Rate | Avg LL    | Std LL\")\n",
    "           print(\"-\" * 35)\n",
    "           for _, row in season_df.iterrows():\n",
    "               marker = \" *\" if row['decay_rate'] == best['decay_rate'] else \"\"\n",
    "               print(f\"{row['decay_rate']:.4f}     | {row['avg_ll']:+.4f} | {row['std_ll']:.4f}{marker}\")\n",
    "           \n",
    "           print(f\"\\nBest for {season}: {best['decay_rate']:.4f} (LL={best['avg_ll']:.4f})\")\n",
    "   \n",
    "   # Overall analysis\n",
    "   results_df = pd.DataFrame(all_results)\n",
    "   \n",
    "   # Find overall best\n",
    "   grouped = results_df.groupby('decay_rate').agg({\n",
    "       'avg_ll': ['mean', 'std'],\n",
    "       'season': 'count'\n",
    "   }).reset_index()\n",
    "   grouped.columns = ['decay_rate', 'overall_avg_ll', 'overall_std_ll', 'n_seasons']\n",
    "   \n",
    "   print(\"\\n\" + \"=\"*70)\n",
    "   print(\"OVERALL RESULTS ACROSS ALL SEASONS\")\n",
    "   print(\"=\"*70)\n",
    "   print(\"\\nDecay Rate | Overall Avg LL | Consistency (Std)\")\n",
    "   print(\"-\" * 50)\n",
    "   \n",
    "   for _, row in grouped.iterrows():\n",
    "       print(f\"{row['decay_rate']:.4f}     | {row['overall_avg_ll']:+.4f}      | {row['overall_std_ll']:.4f}\")\n",
    "   \n",
    "   best_overall_idx = grouped['overall_avg_ll'].idxmax()\n",
    "   best_overall = grouped.loc[best_overall_idx]\n",
    "   \n",
    "   print(\"\\n\" + \"=\"*70)\n",
    "   print(f\"RECOMMENDED DECAY RATE: {best_overall['decay_rate']:.4f}\")\n",
    "   print(f\"Average LL across seasons: {best_overall['overall_avg_ll']:.4f}\")\n",
    "   print(f\"Consistency (std): {best_overall['overall_std_ll']:.4f}\")\n",
    "   print(\"=\"*70)\n",
    "   \n",
    "   return results_df, grouped"
   ]
  },
  {
   "cell_type": "code",
   "execution_count": 3,
   "id": "0f649f2d",
   "metadata": {},
   "outputs": [
    {
     "name": "stdout",
     "output_type": "stream",
     "text": [
      "\n",
      "======================================================================\n",
      "Testing Premier_League 2022-2023\n",
      "======================================================================\n"
     ]
    },
    {
     "name": "stderr",
     "output_type": "stream",
     "text": [
      "WARNING (pytensor.configdefaults): g++ not available, if using conda: `conda install m2w64-toolchain`\n",
      "WARNING (pytensor.configdefaults): g++ not detected!  PyTensor will be unable to compile C-implementations and will default to Python. Performance may be severely degraded. To remove this warning, set PyTensor flags cxx to an empty string.\n",
      "WARNING (pytensor.tensor.blas): Using NumPy C-API based implementation for BLAS functions.\n"
     ]
    },
    {
     "name": "stdout",
     "output_type": "stream",
     "text": [
      "  → Using default priors (no previous season data)\n"
     ]
    },
    {
     "name": "stderr",
     "output_type": "stream",
     "text": [
      "c:\\Users\\Owner\\AppData\\Local\\Programs\\Python\\Python312\\Lib\\site-packages\\pymc\\data.py:274: FutureWarning: ConstantData is deprecated. All Data variables are now mutable. Use Data instead.\n",
      "  warnings.warn(\n"
     ]
    },
    {
     "name": "stdout",
     "output_type": "stream",
     "text": [
      "  → Using default priors (no previous season data)\n"
     ]
    },
    {
     "name": "stderr",
     "output_type": "stream",
     "text": [
      "c:\\Users\\Owner\\AppData\\Local\\Programs\\Python\\Python312\\Lib\\site-packages\\pymc\\data.py:274: FutureWarning: ConstantData is deprecated. All Data variables are now mutable. Use Data instead.\n",
      "  warnings.warn(\n"
     ]
    },
    {
     "name": "stdout",
     "output_type": "stream",
     "text": [
      "  → Using default priors (no previous season data)\n"
     ]
    },
    {
     "name": "stderr",
     "output_type": "stream",
     "text": [
      "c:\\Users\\Owner\\AppData\\Local\\Programs\\Python\\Python312\\Lib\\site-packages\\pymc\\data.py:274: FutureWarning: ConstantData is deprecated. All Data variables are now mutable. Use Data instead.\n",
      "  warnings.warn(\n",
      "The rhat statistic is larger than 1.01 for some parameters. This indicates problems during sampling. See https://arxiv.org/abs/1903.08008 for details\n"
     ]
    },
    {
     "name": "stdout",
     "output_type": "stream",
     "text": [
      "  → Using default priors (no previous season data)\n"
     ]
    },
    {
     "name": "stderr",
     "output_type": "stream",
     "text": [
      "c:\\Users\\Owner\\AppData\\Local\\Programs\\Python\\Python312\\Lib\\site-packages\\pymc\\data.py:274: FutureWarning: ConstantData is deprecated. All Data variables are now mutable. Use Data instead.\n",
      "  warnings.warn(\n",
      "The rhat statistic is larger than 1.01 for some parameters. This indicates problems during sampling. See https://arxiv.org/abs/1903.08008 for details\n",
      "The effective sample size per chain is smaller than 100 for some parameters.  A higher number is needed for reliable rhat and ess computation. See https://arxiv.org/abs/1903.08008 for details\n"
     ]
    },
    {
     "name": "stdout",
     "output_type": "stream",
     "text": [
      "  → Using default priors (no previous season data)\n"
     ]
    },
    {
     "name": "stderr",
     "output_type": "stream",
     "text": [
      "c:\\Users\\Owner\\AppData\\Local\\Programs\\Python\\Python312\\Lib\\site-packages\\pymc\\data.py:274: FutureWarning: ConstantData is deprecated. All Data variables are now mutable. Use Data instead.\n",
      "  warnings.warn(\n",
      "The rhat statistic is larger than 1.01 for some parameters. This indicates problems during sampling. See https://arxiv.org/abs/1903.08008 for details\n",
      "The effective sample size per chain is smaller than 100 for some parameters.  A higher number is needed for reliable rhat and ess computation. See https://arxiv.org/abs/1903.08008 for details\n"
     ]
    },
    {
     "name": "stdout",
     "output_type": "stream",
     "text": [
      "  → Using default priors (no previous season data)\n"
     ]
    },
    {
     "name": "stderr",
     "output_type": "stream",
     "text": [
      "c:\\Users\\Owner\\AppData\\Local\\Programs\\Python\\Python312\\Lib\\site-packages\\pymc\\data.py:274: FutureWarning: ConstantData is deprecated. All Data variables are now mutable. Use Data instead.\n",
      "  warnings.warn(\n",
      "The rhat statistic is larger than 1.01 for some parameters. This indicates problems during sampling. See https://arxiv.org/abs/1903.08008 for details\n"
     ]
    },
    {
     "name": "stdout",
     "output_type": "stream",
     "text": [
      "  → Using default priors (no previous season data)\n"
     ]
    },
    {
     "name": "stderr",
     "output_type": "stream",
     "text": [
      "c:\\Users\\Owner\\AppData\\Local\\Programs\\Python\\Python312\\Lib\\site-packages\\pymc\\data.py:274: FutureWarning: ConstantData is deprecated. All Data variables are now mutable. Use Data instead.\n",
      "  warnings.warn(\n"
     ]
    },
    {
     "name": "stdout",
     "output_type": "stream",
     "text": [
      "  → Using default priors (no previous season data)\n"
     ]
    },
    {
     "name": "stderr",
     "output_type": "stream",
     "text": [
      "c:\\Users\\Owner\\AppData\\Local\\Programs\\Python\\Python312\\Lib\\site-packages\\pymc\\data.py:274: FutureWarning: ConstantData is deprecated. All Data variables are now mutable. Use Data instead.\n",
      "  warnings.warn(\n",
      "The rhat statistic is larger than 1.01 for some parameters. This indicates problems during sampling. See https://arxiv.org/abs/1903.08008 for details\n",
      "The effective sample size per chain is smaller than 100 for some parameters.  A higher number is needed for reliable rhat and ess computation. See https://arxiv.org/abs/1903.08008 for details\n"
     ]
    },
    {
     "name": "stdout",
     "output_type": "stream",
     "text": [
      "  → Using default priors (no previous season data)\n"
     ]
    },
    {
     "name": "stderr",
     "output_type": "stream",
     "text": [
      "c:\\Users\\Owner\\AppData\\Local\\Programs\\Python\\Python312\\Lib\\site-packages\\pymc\\data.py:274: FutureWarning: ConstantData is deprecated. All Data variables are now mutable. Use Data instead.\n",
      "  warnings.warn(\n",
      "The rhat statistic is larger than 1.01 for some parameters. This indicates problems during sampling. See https://arxiv.org/abs/1903.08008 for details\n",
      "The effective sample size per chain is smaller than 100 for some parameters.  A higher number is needed for reliable rhat and ess computation. See https://arxiv.org/abs/1903.08008 for details\n"
     ]
    },
    {
     "name": "stdout",
     "output_type": "stream",
     "text": [
      "  → Using default priors (no previous season data)\n"
     ]
    },
    {
     "name": "stderr",
     "output_type": "stream",
     "text": [
      "c:\\Users\\Owner\\AppData\\Local\\Programs\\Python\\Python312\\Lib\\site-packages\\pymc\\data.py:274: FutureWarning: ConstantData is deprecated. All Data variables are now mutable. Use Data instead.\n",
      "  warnings.warn(\n",
      "The rhat statistic is larger than 1.01 for some parameters. This indicates problems during sampling. See https://arxiv.org/abs/1903.08008 for details\n",
      "The effective sample size per chain is smaller than 100 for some parameters.  A higher number is needed for reliable rhat and ess computation. See https://arxiv.org/abs/1903.08008 for details\n"
     ]
    },
    {
     "name": "stdout",
     "output_type": "stream",
     "text": [
      "  → Using default priors (no previous season data)\n"
     ]
    },
    {
     "name": "stderr",
     "output_type": "stream",
     "text": [
      "c:\\Users\\Owner\\AppData\\Local\\Programs\\Python\\Python312\\Lib\\site-packages\\pymc\\data.py:274: FutureWarning: ConstantData is deprecated. All Data variables are now mutable. Use Data instead.\n",
      "  warnings.warn(\n"
     ]
    },
    {
     "name": "stdout",
     "output_type": "stream",
     "text": [
      "  → Using default priors (no previous season data)\n"
     ]
    },
    {
     "name": "stderr",
     "output_type": "stream",
     "text": [
      "c:\\Users\\Owner\\AppData\\Local\\Programs\\Python\\Python312\\Lib\\site-packages\\pymc\\data.py:274: FutureWarning: ConstantData is deprecated. All Data variables are now mutable. Use Data instead.\n",
      "  warnings.warn(\n"
     ]
    },
    {
     "name": "stdout",
     "output_type": "stream",
     "text": [
      "  → Using default priors (no previous season data)\n"
     ]
    },
    {
     "name": "stderr",
     "output_type": "stream",
     "text": [
      "c:\\Users\\Owner\\AppData\\Local\\Programs\\Python\\Python312\\Lib\\site-packages\\pymc\\data.py:274: FutureWarning: ConstantData is deprecated. All Data variables are now mutable. Use Data instead.\n",
      "  warnings.warn(\n",
      "The rhat statistic is larger than 1.01 for some parameters. This indicates problems during sampling. See https://arxiv.org/abs/1903.08008 for details\n"
     ]
    },
    {
     "name": "stdout",
     "output_type": "stream",
     "text": [
      "  → Using default priors (no previous season data)\n"
     ]
    },
    {
     "name": "stderr",
     "output_type": "stream",
     "text": [
      "c:\\Users\\Owner\\AppData\\Local\\Programs\\Python\\Python312\\Lib\\site-packages\\pymc\\data.py:274: FutureWarning: ConstantData is deprecated. All Data variables are now mutable. Use Data instead.\n",
      "  warnings.warn(\n",
      "The rhat statistic is larger than 1.01 for some parameters. This indicates problems during sampling. See https://arxiv.org/abs/1903.08008 for details\n",
      "The effective sample size per chain is smaller than 100 for some parameters.  A higher number is needed for reliable rhat and ess computation. See https://arxiv.org/abs/1903.08008 for details\n"
     ]
    },
    {
     "name": "stdout",
     "output_type": "stream",
     "text": [
      "  → Using default priors (no previous season data)\n"
     ]
    },
    {
     "name": "stderr",
     "output_type": "stream",
     "text": [
      "c:\\Users\\Owner\\AppData\\Local\\Programs\\Python\\Python312\\Lib\\site-packages\\pymc\\data.py:274: FutureWarning: ConstantData is deprecated. All Data variables are now mutable. Use Data instead.\n",
      "  warnings.warn(\n",
      "The rhat statistic is larger than 1.01 for some parameters. This indicates problems during sampling. See https://arxiv.org/abs/1903.08008 for details\n",
      "The effective sample size per chain is smaller than 100 for some parameters.  A higher number is needed for reliable rhat and ess computation. See https://arxiv.org/abs/1903.08008 for details\n"
     ]
    },
    {
     "name": "stdout",
     "output_type": "stream",
     "text": [
      "  → Using default priors (no previous season data)\n"
     ]
    },
    {
     "name": "stderr",
     "output_type": "stream",
     "text": [
      "c:\\Users\\Owner\\AppData\\Local\\Programs\\Python\\Python312\\Lib\\site-packages\\pymc\\data.py:274: FutureWarning: ConstantData is deprecated. All Data variables are now mutable. Use Data instead.\n",
      "  warnings.warn(\n"
     ]
    },
    {
     "name": "stdout",
     "output_type": "stream",
     "text": [
      "  → Using default priors (no previous season data)\n"
     ]
    },
    {
     "name": "stderr",
     "output_type": "stream",
     "text": [
      "c:\\Users\\Owner\\AppData\\Local\\Programs\\Python\\Python312\\Lib\\site-packages\\pymc\\data.py:274: FutureWarning: ConstantData is deprecated. All Data variables are now mutable. Use Data instead.\n",
      "  warnings.warn(\n"
     ]
    },
    {
     "name": "stdout",
     "output_type": "stream",
     "text": [
      "  → Using default priors (no previous season data)\n"
     ]
    },
    {
     "name": "stderr",
     "output_type": "stream",
     "text": [
      "c:\\Users\\Owner\\AppData\\Local\\Programs\\Python\\Python312\\Lib\\site-packages\\pymc\\data.py:274: FutureWarning: ConstantData is deprecated. All Data variables are now mutable. Use Data instead.\n",
      "  warnings.warn(\n"
     ]
    },
    {
     "name": "stdout",
     "output_type": "stream",
     "text": [
      "  → Using default priors (no previous season data)\n"
     ]
    },
    {
     "name": "stderr",
     "output_type": "stream",
     "text": [
      "c:\\Users\\Owner\\AppData\\Local\\Programs\\Python\\Python312\\Lib\\site-packages\\pymc\\data.py:274: FutureWarning: ConstantData is deprecated. All Data variables are now mutable. Use Data instead.\n",
      "  warnings.warn(\n",
      "The rhat statistic is larger than 1.01 for some parameters. This indicates problems during sampling. See https://arxiv.org/abs/1903.08008 for details\n",
      "The effective sample size per chain is smaller than 100 for some parameters.  A higher number is needed for reliable rhat and ess computation. See https://arxiv.org/abs/1903.08008 for details\n"
     ]
    },
    {
     "name": "stdout",
     "output_type": "stream",
     "text": [
      "  → Using default priors (no previous season data)\n"
     ]
    },
    {
     "name": "stderr",
     "output_type": "stream",
     "text": [
      "c:\\Users\\Owner\\AppData\\Local\\Programs\\Python\\Python312\\Lib\\site-packages\\pymc\\data.py:274: FutureWarning: ConstantData is deprecated. All Data variables are now mutable. Use Data instead.\n",
      "  warnings.warn(\n",
      "The effective sample size per chain is smaller than 100 for some parameters.  A higher number is needed for reliable rhat and ess computation. See https://arxiv.org/abs/1903.08008 for details\n"
     ]
    },
    {
     "name": "stdout",
     "output_type": "stream",
     "text": [
      "  → Using default priors (no previous season data)\n"
     ]
    },
    {
     "name": "stderr",
     "output_type": "stream",
     "text": [
      "c:\\Users\\Owner\\AppData\\Local\\Programs\\Python\\Python312\\Lib\\site-packages\\pymc\\data.py:274: FutureWarning: ConstantData is deprecated. All Data variables are now mutable. Use Data instead.\n",
      "  warnings.warn(\n"
     ]
    },
    {
     "name": "stdout",
     "output_type": "stream",
     "text": [
      "  → Using default priors (no previous season data)\n"
     ]
    },
    {
     "name": "stderr",
     "output_type": "stream",
     "text": [
      "c:\\Users\\Owner\\AppData\\Local\\Programs\\Python\\Python312\\Lib\\site-packages\\pymc\\data.py:274: FutureWarning: ConstantData is deprecated. All Data variables are now mutable. Use Data instead.\n",
      "  warnings.warn(\n"
     ]
    },
    {
     "name": "stdout",
     "output_type": "stream",
     "text": [
      "  → Using default priors (no previous season data)\n"
     ]
    },
    {
     "name": "stderr",
     "output_type": "stream",
     "text": [
      "c:\\Users\\Owner\\AppData\\Local\\Programs\\Python\\Python312\\Lib\\site-packages\\pymc\\data.py:274: FutureWarning: ConstantData is deprecated. All Data variables are now mutable. Use Data instead.\n",
      "  warnings.warn(\n"
     ]
    },
    {
     "name": "stdout",
     "output_type": "stream",
     "text": [
      "  → Using default priors (no previous season data)\n"
     ]
    },
    {
     "name": "stderr",
     "output_type": "stream",
     "text": [
      "c:\\Users\\Owner\\AppData\\Local\\Programs\\Python\\Python312\\Lib\\site-packages\\pymc\\data.py:274: FutureWarning: ConstantData is deprecated. All Data variables are now mutable. Use Data instead.\n",
      "  warnings.warn(\n",
      "The rhat statistic is larger than 1.01 for some parameters. This indicates problems during sampling. See https://arxiv.org/abs/1903.08008 for details\n"
     ]
    },
    {
     "name": "stdout",
     "output_type": "stream",
     "text": [
      "  → Using default priors (no previous season data)\n"
     ]
    },
    {
     "name": "stderr",
     "output_type": "stream",
     "text": [
      "c:\\Users\\Owner\\AppData\\Local\\Programs\\Python\\Python312\\Lib\\site-packages\\pymc\\data.py:274: FutureWarning: ConstantData is deprecated. All Data variables are now mutable. Use Data instead.\n",
      "  warnings.warn(\n",
      "The effective sample size per chain is smaller than 100 for some parameters.  A higher number is needed for reliable rhat and ess computation. See https://arxiv.org/abs/1903.08008 for details\n"
     ]
    },
    {
     "name": "stdout",
     "output_type": "stream",
     "text": [
      "  → Using default priors (no previous season data)\n"
     ]
    },
    {
     "name": "stderr",
     "output_type": "stream",
     "text": [
      "c:\\Users\\Owner\\AppData\\Local\\Programs\\Python\\Python312\\Lib\\site-packages\\pymc\\data.py:274: FutureWarning: ConstantData is deprecated. All Data variables are now mutable. Use Data instead.\n",
      "  warnings.warn(\n"
     ]
    },
    {
     "name": "stdout",
     "output_type": "stream",
     "text": [
      "  → Using default priors (no previous season data)\n"
     ]
    },
    {
     "name": "stderr",
     "output_type": "stream",
     "text": [
      "c:\\Users\\Owner\\AppData\\Local\\Programs\\Python\\Python312\\Lib\\site-packages\\pymc\\data.py:274: FutureWarning: ConstantData is deprecated. All Data variables are now mutable. Use Data instead.\n",
      "  warnings.warn(\n"
     ]
    },
    {
     "name": "stdout",
     "output_type": "stream",
     "text": [
      "  → Using default priors (no previous season data)\n"
     ]
    },
    {
     "name": "stderr",
     "output_type": "stream",
     "text": [
      "c:\\Users\\Owner\\AppData\\Local\\Programs\\Python\\Python312\\Lib\\site-packages\\pymc\\data.py:274: FutureWarning: ConstantData is deprecated. All Data variables are now mutable. Use Data instead.\n",
      "  warnings.warn(\n"
     ]
    },
    {
     "name": "stdout",
     "output_type": "stream",
     "text": [
      "  → Using default priors (no previous season data)\n"
     ]
    },
    {
     "name": "stderr",
     "output_type": "stream",
     "text": [
      "c:\\Users\\Owner\\AppData\\Local\\Programs\\Python\\Python312\\Lib\\site-packages\\pymc\\data.py:274: FutureWarning: ConstantData is deprecated. All Data variables are now mutable. Use Data instead.\n",
      "  warnings.warn(\n"
     ]
    },
    {
     "name": "stdout",
     "output_type": "stream",
     "text": [
      "  → Using default priors (no previous season data)\n"
     ]
    },
    {
     "name": "stderr",
     "output_type": "stream",
     "text": [
      "c:\\Users\\Owner\\AppData\\Local\\Programs\\Python\\Python312\\Lib\\site-packages\\pymc\\data.py:274: FutureWarning: ConstantData is deprecated. All Data variables are now mutable. Use Data instead.\n",
      "  warnings.warn(\n",
      "The effective sample size per chain is smaller than 100 for some parameters.  A higher number is needed for reliable rhat and ess computation. See https://arxiv.org/abs/1903.08008 for details\n"
     ]
    },
    {
     "name": "stdout",
     "output_type": "stream",
     "text": [
      "  → Using default priors (no previous season data)\n"
     ]
    },
    {
     "name": "stderr",
     "output_type": "stream",
     "text": [
      "c:\\Users\\Owner\\AppData\\Local\\Programs\\Python\\Python312\\Lib\\site-packages\\pymc\\data.py:274: FutureWarning: ConstantData is deprecated. All Data variables are now mutable. Use Data instead.\n",
      "  warnings.warn(\n"
     ]
    },
    {
     "name": "stdout",
     "output_type": "stream",
     "text": [
      "  → Using default priors (no previous season data)\n"
     ]
    },
    {
     "name": "stderr",
     "output_type": "stream",
     "text": [
      "c:\\Users\\Owner\\AppData\\Local\\Programs\\Python\\Python312\\Lib\\site-packages\\pymc\\data.py:274: FutureWarning: ConstantData is deprecated. All Data variables are now mutable. Use Data instead.\n",
      "  warnings.warn(\n"
     ]
    },
    {
     "name": "stdout",
     "output_type": "stream",
     "text": [
      "  → Using default priors (no previous season data)\n"
     ]
    },
    {
     "name": "stderr",
     "output_type": "stream",
     "text": [
      "c:\\Users\\Owner\\AppData\\Local\\Programs\\Python\\Python312\\Lib\\site-packages\\pymc\\data.py:274: FutureWarning: ConstantData is deprecated. All Data variables are now mutable. Use Data instead.\n",
      "  warnings.warn(\n"
     ]
    },
    {
     "name": "stdout",
     "output_type": "stream",
     "text": [
      "  → Using default priors (no previous season data)\n"
     ]
    },
    {
     "name": "stderr",
     "output_type": "stream",
     "text": [
      "c:\\Users\\Owner\\AppData\\Local\\Programs\\Python\\Python312\\Lib\\site-packages\\pymc\\data.py:274: FutureWarning: ConstantData is deprecated. All Data variables are now mutable. Use Data instead.\n",
      "  warnings.warn(\n"
     ]
    },
    {
     "name": "stdout",
     "output_type": "stream",
     "text": [
      "  → Using default priors (no previous season data)\n"
     ]
    },
    {
     "name": "stderr",
     "output_type": "stream",
     "text": [
      "c:\\Users\\Owner\\AppData\\Local\\Programs\\Python\\Python312\\Lib\\site-packages\\pymc\\data.py:274: FutureWarning: ConstantData is deprecated. All Data variables are now mutable. Use Data instead.\n",
      "  warnings.warn(\n"
     ]
    },
    {
     "name": "stdout",
     "output_type": "stream",
     "text": [
      "\n",
      "2022-2023 Results:\n",
      "Decay Rate | Avg LL    | Std LL\n",
      "-----------------------------------\n",
      "0.0001     | -3.0270 | 0.2321\n",
      "0.0005     | -3.0261 | 0.2309\n",
      "0.0010     | -3.0246 | 0.2291\n",
      "0.0020     | -3.0254 | 0.2293\n",
      "0.0035     | -3.0240 | 0.2294 *\n",
      "0.0050     | -3.0244 | 0.2268\n",
      "0.0100     | -3.0445 | 0.2225\n",
      "\n",
      "Best for 2022-2023: 0.0035 (LL=-3.0240)\n",
      "\n",
      "======================================================================\n",
      "Testing Premier_League 2023-2024\n",
      "======================================================================\n",
      "  → Using default priors (no previous season data)\n"
     ]
    },
    {
     "name": "stderr",
     "output_type": "stream",
     "text": [
      "c:\\Users\\Owner\\AppData\\Local\\Programs\\Python\\Python312\\Lib\\site-packages\\pymc\\data.py:274: FutureWarning: ConstantData is deprecated. All Data variables are now mutable. Use Data instead.\n",
      "  warnings.warn(\n"
     ]
    },
    {
     "name": "stdout",
     "output_type": "stream",
     "text": [
      "  → Using default priors (no previous season data)\n"
     ]
    },
    {
     "name": "stderr",
     "output_type": "stream",
     "text": [
      "c:\\Users\\Owner\\AppData\\Local\\Programs\\Python\\Python312\\Lib\\site-packages\\pymc\\data.py:274: FutureWarning: ConstantData is deprecated. All Data variables are now mutable. Use Data instead.\n",
      "  warnings.warn(\n",
      "The rhat statistic is larger than 1.01 for some parameters. This indicates problems during sampling. See https://arxiv.org/abs/1903.08008 for details\n"
     ]
    },
    {
     "name": "stdout",
     "output_type": "stream",
     "text": [
      "  → Using default priors (no previous season data)\n"
     ]
    },
    {
     "name": "stderr",
     "output_type": "stream",
     "text": [
      "c:\\Users\\Owner\\AppData\\Local\\Programs\\Python\\Python312\\Lib\\site-packages\\pymc\\data.py:274: FutureWarning: ConstantData is deprecated. All Data variables are now mutable. Use Data instead.\n",
      "  warnings.warn(\n",
      "The rhat statistic is larger than 1.01 for some parameters. This indicates problems during sampling. See https://arxiv.org/abs/1903.08008 for details\n",
      "The effective sample size per chain is smaller than 100 for some parameters.  A higher number is needed for reliable rhat and ess computation. See https://arxiv.org/abs/1903.08008 for details\n"
     ]
    },
    {
     "name": "stdout",
     "output_type": "stream",
     "text": [
      "  → Using default priors (no previous season data)\n"
     ]
    },
    {
     "name": "stderr",
     "output_type": "stream",
     "text": [
      "c:\\Users\\Owner\\AppData\\Local\\Programs\\Python\\Python312\\Lib\\site-packages\\pymc\\data.py:274: FutureWarning: ConstantData is deprecated. All Data variables are now mutable. Use Data instead.\n",
      "  warnings.warn(\n",
      "The rhat statistic is larger than 1.01 for some parameters. This indicates problems during sampling. See https://arxiv.org/abs/1903.08008 for details\n",
      "The effective sample size per chain is smaller than 100 for some parameters.  A higher number is needed for reliable rhat and ess computation. See https://arxiv.org/abs/1903.08008 for details\n"
     ]
    },
    {
     "name": "stdout",
     "output_type": "stream",
     "text": [
      "  → Using default priors (no previous season data)\n"
     ]
    },
    {
     "name": "stderr",
     "output_type": "stream",
     "text": [
      "c:\\Users\\Owner\\AppData\\Local\\Programs\\Python\\Python312\\Lib\\site-packages\\pymc\\data.py:274: FutureWarning: ConstantData is deprecated. All Data variables are now mutable. Use Data instead.\n",
      "  warnings.warn(\n",
      "The rhat statistic is larger than 1.01 for some parameters. This indicates problems during sampling. See https://arxiv.org/abs/1903.08008 for details\n",
      "The effective sample size per chain is smaller than 100 for some parameters.  A higher number is needed for reliable rhat and ess computation. See https://arxiv.org/abs/1903.08008 for details\n"
     ]
    },
    {
     "name": "stdout",
     "output_type": "stream",
     "text": [
      "  → Using default priors (no previous season data)\n"
     ]
    },
    {
     "name": "stderr",
     "output_type": "stream",
     "text": [
      "c:\\Users\\Owner\\AppData\\Local\\Programs\\Python\\Python312\\Lib\\site-packages\\pymc\\data.py:274: FutureWarning: ConstantData is deprecated. All Data variables are now mutable. Use Data instead.\n",
      "  warnings.warn(\n"
     ]
    },
    {
     "name": "stdout",
     "output_type": "stream",
     "text": [
      "  → Using default priors (no previous season data)\n"
     ]
    },
    {
     "name": "stderr",
     "output_type": "stream",
     "text": [
      "c:\\Users\\Owner\\AppData\\Local\\Programs\\Python\\Python312\\Lib\\site-packages\\pymc\\data.py:274: FutureWarning: ConstantData is deprecated. All Data variables are now mutable. Use Data instead.\n",
      "  warnings.warn(\n",
      "The rhat statistic is larger than 1.01 for some parameters. This indicates problems during sampling. See https://arxiv.org/abs/1903.08008 for details\n"
     ]
    },
    {
     "name": "stdout",
     "output_type": "stream",
     "text": [
      "  → Using default priors (no previous season data)\n"
     ]
    },
    {
     "name": "stderr",
     "output_type": "stream",
     "text": [
      "c:\\Users\\Owner\\AppData\\Local\\Programs\\Python\\Python312\\Lib\\site-packages\\pymc\\data.py:274: FutureWarning: ConstantData is deprecated. All Data variables are now mutable. Use Data instead.\n",
      "  warnings.warn(\n",
      "The rhat statistic is larger than 1.01 for some parameters. This indicates problems during sampling. See https://arxiv.org/abs/1903.08008 for details\n",
      "The effective sample size per chain is smaller than 100 for some parameters.  A higher number is needed for reliable rhat and ess computation. See https://arxiv.org/abs/1903.08008 for details\n"
     ]
    },
    {
     "name": "stdout",
     "output_type": "stream",
     "text": [
      "  → Using default priors (no previous season data)\n"
     ]
    },
    {
     "name": "stderr",
     "output_type": "stream",
     "text": [
      "c:\\Users\\Owner\\AppData\\Local\\Programs\\Python\\Python312\\Lib\\site-packages\\pymc\\data.py:274: FutureWarning: ConstantData is deprecated. All Data variables are now mutable. Use Data instead.\n",
      "  warnings.warn(\n",
      "The rhat statistic is larger than 1.01 for some parameters. This indicates problems during sampling. See https://arxiv.org/abs/1903.08008 for details\n",
      "The effective sample size per chain is smaller than 100 for some parameters.  A higher number is needed for reliable rhat and ess computation. See https://arxiv.org/abs/1903.08008 for details\n"
     ]
    },
    {
     "name": "stdout",
     "output_type": "stream",
     "text": [
      "  → Using default priors (no previous season data)\n"
     ]
    },
    {
     "name": "stderr",
     "output_type": "stream",
     "text": [
      "c:\\Users\\Owner\\AppData\\Local\\Programs\\Python\\Python312\\Lib\\site-packages\\pymc\\data.py:274: FutureWarning: ConstantData is deprecated. All Data variables are now mutable. Use Data instead.\n",
      "  warnings.warn(\n",
      "The rhat statistic is larger than 1.01 for some parameters. This indicates problems during sampling. See https://arxiv.org/abs/1903.08008 for details\n",
      "The effective sample size per chain is smaller than 100 for some parameters.  A higher number is needed for reliable rhat and ess computation. See https://arxiv.org/abs/1903.08008 for details\n"
     ]
    },
    {
     "name": "stdout",
     "output_type": "stream",
     "text": [
      "  → Using default priors (no previous season data)\n"
     ]
    },
    {
     "name": "stderr",
     "output_type": "stream",
     "text": [
      "c:\\Users\\Owner\\AppData\\Local\\Programs\\Python\\Python312\\Lib\\site-packages\\pymc\\data.py:274: FutureWarning: ConstantData is deprecated. All Data variables are now mutable. Use Data instead.\n",
      "  warnings.warn(\n"
     ]
    },
    {
     "name": "stdout",
     "output_type": "stream",
     "text": [
      "  → Using default priors (no previous season data)\n"
     ]
    },
    {
     "name": "stderr",
     "output_type": "stream",
     "text": [
      "c:\\Users\\Owner\\AppData\\Local\\Programs\\Python\\Python312\\Lib\\site-packages\\pymc\\data.py:274: FutureWarning: ConstantData is deprecated. All Data variables are now mutable. Use Data instead.\n",
      "  warnings.warn(\n",
      "The rhat statistic is larger than 1.01 for some parameters. This indicates problems during sampling. See https://arxiv.org/abs/1903.08008 for details\n"
     ]
    },
    {
     "name": "stdout",
     "output_type": "stream",
     "text": [
      "  → Using default priors (no previous season data)\n"
     ]
    },
    {
     "name": "stderr",
     "output_type": "stream",
     "text": [
      "c:\\Users\\Owner\\AppData\\Local\\Programs\\Python\\Python312\\Lib\\site-packages\\pymc\\data.py:274: FutureWarning: ConstantData is deprecated. All Data variables are now mutable. Use Data instead.\n",
      "  warnings.warn(\n",
      "The effective sample size per chain is smaller than 100 for some parameters.  A higher number is needed for reliable rhat and ess computation. See https://arxiv.org/abs/1903.08008 for details\n"
     ]
    },
    {
     "name": "stdout",
     "output_type": "stream",
     "text": [
      "  → Using default priors (no previous season data)\n"
     ]
    },
    {
     "name": "stderr",
     "output_type": "stream",
     "text": [
      "c:\\Users\\Owner\\AppData\\Local\\Programs\\Python\\Python312\\Lib\\site-packages\\pymc\\data.py:274: FutureWarning: ConstantData is deprecated. All Data variables are now mutable. Use Data instead.\n",
      "  warnings.warn(\n",
      "The rhat statistic is larger than 1.01 for some parameters. This indicates problems during sampling. See https://arxiv.org/abs/1903.08008 for details\n",
      "The effective sample size per chain is smaller than 100 for some parameters.  A higher number is needed for reliable rhat and ess computation. See https://arxiv.org/abs/1903.08008 for details\n"
     ]
    },
    {
     "name": "stdout",
     "output_type": "stream",
     "text": [
      "  → Using default priors (no previous season data)\n"
     ]
    },
    {
     "name": "stderr",
     "output_type": "stream",
     "text": [
      "c:\\Users\\Owner\\AppData\\Local\\Programs\\Python\\Python312\\Lib\\site-packages\\pymc\\data.py:274: FutureWarning: ConstantData is deprecated. All Data variables are now mutable. Use Data instead.\n",
      "  warnings.warn(\n",
      "The effective sample size per chain is smaller than 100 for some parameters.  A higher number is needed for reliable rhat and ess computation. See https://arxiv.org/abs/1903.08008 for details\n"
     ]
    },
    {
     "name": "stdout",
     "output_type": "stream",
     "text": [
      "  → Using default priors (no previous season data)\n"
     ]
    },
    {
     "name": "stderr",
     "output_type": "stream",
     "text": [
      "c:\\Users\\Owner\\AppData\\Local\\Programs\\Python\\Python312\\Lib\\site-packages\\pymc\\data.py:274: FutureWarning: ConstantData is deprecated. All Data variables are now mutable. Use Data instead.\n",
      "  warnings.warn(\n"
     ]
    },
    {
     "name": "stdout",
     "output_type": "stream",
     "text": [
      "  → Using default priors (no previous season data)\n"
     ]
    },
    {
     "name": "stderr",
     "output_type": "stream",
     "text": [
      "c:\\Users\\Owner\\AppData\\Local\\Programs\\Python\\Python312\\Lib\\site-packages\\pymc\\data.py:274: FutureWarning: ConstantData is deprecated. All Data variables are now mutable. Use Data instead.\n",
      "  warnings.warn(\n",
      "The rhat statistic is larger than 1.01 for some parameters. This indicates problems during sampling. See https://arxiv.org/abs/1903.08008 for details\n"
     ]
    },
    {
     "name": "stdout",
     "output_type": "stream",
     "text": [
      "  → Using default priors (no previous season data)\n"
     ]
    },
    {
     "name": "stderr",
     "output_type": "stream",
     "text": [
      "c:\\Users\\Owner\\AppData\\Local\\Programs\\Python\\Python312\\Lib\\site-packages\\pymc\\data.py:274: FutureWarning: ConstantData is deprecated. All Data variables are now mutable. Use Data instead.\n",
      "  warnings.warn(\n"
     ]
    },
    {
     "name": "stdout",
     "output_type": "stream",
     "text": [
      "  → Using default priors (no previous season data)\n"
     ]
    },
    {
     "name": "stderr",
     "output_type": "stream",
     "text": [
      "c:\\Users\\Owner\\AppData\\Local\\Programs\\Python\\Python312\\Lib\\site-packages\\pymc\\data.py:274: FutureWarning: ConstantData is deprecated. All Data variables are now mutable. Use Data instead.\n",
      "  warnings.warn(\n",
      "The rhat statistic is larger than 1.01 for some parameters. This indicates problems during sampling. See https://arxiv.org/abs/1903.08008 for details\n",
      "The effective sample size per chain is smaller than 100 for some parameters.  A higher number is needed for reliable rhat and ess computation. See https://arxiv.org/abs/1903.08008 for details\n"
     ]
    },
    {
     "name": "stdout",
     "output_type": "stream",
     "text": [
      "  → Using default priors (no previous season data)\n"
     ]
    },
    {
     "name": "stderr",
     "output_type": "stream",
     "text": [
      "c:\\Users\\Owner\\AppData\\Local\\Programs\\Python\\Python312\\Lib\\site-packages\\pymc\\data.py:274: FutureWarning: ConstantData is deprecated. All Data variables are now mutable. Use Data instead.\n",
      "  warnings.warn(\n",
      "The rhat statistic is larger than 1.01 for some parameters. This indicates problems during sampling. See https://arxiv.org/abs/1903.08008 for details\n",
      "The effective sample size per chain is smaller than 100 for some parameters.  A higher number is needed for reliable rhat and ess computation. See https://arxiv.org/abs/1903.08008 for details\n"
     ]
    },
    {
     "name": "stdout",
     "output_type": "stream",
     "text": [
      "  → Using default priors (no previous season data)\n"
     ]
    },
    {
     "name": "stderr",
     "output_type": "stream",
     "text": [
      "c:\\Users\\Owner\\AppData\\Local\\Programs\\Python\\Python312\\Lib\\site-packages\\pymc\\data.py:274: FutureWarning: ConstantData is deprecated. All Data variables are now mutable. Use Data instead.\n",
      "  warnings.warn(\n"
     ]
    },
    {
     "name": "stdout",
     "output_type": "stream",
     "text": [
      "  → Using default priors (no previous season data)\n"
     ]
    },
    {
     "name": "stderr",
     "output_type": "stream",
     "text": [
      "c:\\Users\\Owner\\AppData\\Local\\Programs\\Python\\Python312\\Lib\\site-packages\\pymc\\data.py:274: FutureWarning: ConstantData is deprecated. All Data variables are now mutable. Use Data instead.\n",
      "  warnings.warn(\n"
     ]
    },
    {
     "name": "stdout",
     "output_type": "stream",
     "text": [
      "  → Using default priors (no previous season data)\n"
     ]
    },
    {
     "name": "stderr",
     "output_type": "stream",
     "text": [
      "c:\\Users\\Owner\\AppData\\Local\\Programs\\Python\\Python312\\Lib\\site-packages\\pymc\\data.py:274: FutureWarning: ConstantData is deprecated. All Data variables are now mutable. Use Data instead.\n",
      "  warnings.warn(\n"
     ]
    },
    {
     "name": "stdout",
     "output_type": "stream",
     "text": [
      "  → Using default priors (no previous season data)\n"
     ]
    },
    {
     "name": "stderr",
     "output_type": "stream",
     "text": [
      "c:\\Users\\Owner\\AppData\\Local\\Programs\\Python\\Python312\\Lib\\site-packages\\pymc\\data.py:274: FutureWarning: ConstantData is deprecated. All Data variables are now mutable. Use Data instead.\n",
      "  warnings.warn(\n",
      "The effective sample size per chain is smaller than 100 for some parameters.  A higher number is needed for reliable rhat and ess computation. See https://arxiv.org/abs/1903.08008 for details\n"
     ]
    },
    {
     "name": "stdout",
     "output_type": "stream",
     "text": [
      "  → Using default priors (no previous season data)\n"
     ]
    },
    {
     "name": "stderr",
     "output_type": "stream",
     "text": [
      "c:\\Users\\Owner\\AppData\\Local\\Programs\\Python\\Python312\\Lib\\site-packages\\pymc\\data.py:274: FutureWarning: ConstantData is deprecated. All Data variables are now mutable. Use Data instead.\n",
      "  warnings.warn(\n",
      "The rhat statistic is larger than 1.01 for some parameters. This indicates problems during sampling. See https://arxiv.org/abs/1903.08008 for details\n",
      "The effective sample size per chain is smaller than 100 for some parameters.  A higher number is needed for reliable rhat and ess computation. See https://arxiv.org/abs/1903.08008 for details\n"
     ]
    },
    {
     "name": "stdout",
     "output_type": "stream",
     "text": [
      "  → Using default priors (no previous season data)\n"
     ]
    },
    {
     "name": "stderr",
     "output_type": "stream",
     "text": [
      "c:\\Users\\Owner\\AppData\\Local\\Programs\\Python\\Python312\\Lib\\site-packages\\pymc\\data.py:274: FutureWarning: ConstantData is deprecated. All Data variables are now mutable. Use Data instead.\n",
      "  warnings.warn(\n"
     ]
    },
    {
     "name": "stdout",
     "output_type": "stream",
     "text": [
      "  → Using default priors (no previous season data)\n"
     ]
    },
    {
     "name": "stderr",
     "output_type": "stream",
     "text": [
      "c:\\Users\\Owner\\AppData\\Local\\Programs\\Python\\Python312\\Lib\\site-packages\\pymc\\data.py:274: FutureWarning: ConstantData is deprecated. All Data variables are now mutable. Use Data instead.\n",
      "  warnings.warn(\n"
     ]
    },
    {
     "name": "stdout",
     "output_type": "stream",
     "text": [
      "  → Using default priors (no previous season data)\n"
     ]
    },
    {
     "name": "stderr",
     "output_type": "stream",
     "text": [
      "c:\\Users\\Owner\\AppData\\Local\\Programs\\Python\\Python312\\Lib\\site-packages\\pymc\\data.py:274: FutureWarning: ConstantData is deprecated. All Data variables are now mutable. Use Data instead.\n",
      "  warnings.warn(\n"
     ]
    },
    {
     "name": "stdout",
     "output_type": "stream",
     "text": [
      "  → Using default priors (no previous season data)\n"
     ]
    },
    {
     "name": "stderr",
     "output_type": "stream",
     "text": [
      "c:\\Users\\Owner\\AppData\\Local\\Programs\\Python\\Python312\\Lib\\site-packages\\pymc\\data.py:274: FutureWarning: ConstantData is deprecated. All Data variables are now mutable. Use Data instead.\n",
      "  warnings.warn(\n",
      "The rhat statistic is larger than 1.01 for some parameters. This indicates problems during sampling. See https://arxiv.org/abs/1903.08008 for details\n"
     ]
    },
    {
     "name": "stdout",
     "output_type": "stream",
     "text": [
      "  → Using default priors (no previous season data)\n"
     ]
    },
    {
     "name": "stderr",
     "output_type": "stream",
     "text": [
      "c:\\Users\\Owner\\AppData\\Local\\Programs\\Python\\Python312\\Lib\\site-packages\\pymc\\data.py:274: FutureWarning: ConstantData is deprecated. All Data variables are now mutable. Use Data instead.\n",
      "  warnings.warn(\n"
     ]
    },
    {
     "name": "stdout",
     "output_type": "stream",
     "text": [
      "  → Using default priors (no previous season data)\n"
     ]
    },
    {
     "name": "stderr",
     "output_type": "stream",
     "text": [
      "c:\\Users\\Owner\\AppData\\Local\\Programs\\Python\\Python312\\Lib\\site-packages\\pymc\\data.py:274: FutureWarning: ConstantData is deprecated. All Data variables are now mutable. Use Data instead.\n",
      "  warnings.warn(\n"
     ]
    },
    {
     "name": "stdout",
     "output_type": "stream",
     "text": [
      "  → Using default priors (no previous season data)\n"
     ]
    },
    {
     "name": "stderr",
     "output_type": "stream",
     "text": [
      "c:\\Users\\Owner\\AppData\\Local\\Programs\\Python\\Python312\\Lib\\site-packages\\pymc\\data.py:274: FutureWarning: ConstantData is deprecated. All Data variables are now mutable. Use Data instead.\n",
      "  warnings.warn(\n"
     ]
    },
    {
     "name": "stdout",
     "output_type": "stream",
     "text": [
      "  → Using default priors (no previous season data)\n"
     ]
    },
    {
     "name": "stderr",
     "output_type": "stream",
     "text": [
      "c:\\Users\\Owner\\AppData\\Local\\Programs\\Python\\Python312\\Lib\\site-packages\\pymc\\data.py:274: FutureWarning: ConstantData is deprecated. All Data variables are now mutable. Use Data instead.\n",
      "  warnings.warn(\n"
     ]
    },
    {
     "name": "stdout",
     "output_type": "stream",
     "text": [
      "  → Using default priors (no previous season data)\n"
     ]
    },
    {
     "name": "stderr",
     "output_type": "stream",
     "text": [
      "c:\\Users\\Owner\\AppData\\Local\\Programs\\Python\\Python312\\Lib\\site-packages\\pymc\\data.py:274: FutureWarning: ConstantData is deprecated. All Data variables are now mutable. Use Data instead.\n",
      "  warnings.warn(\n"
     ]
    },
    {
     "name": "stdout",
     "output_type": "stream",
     "text": [
      "  → Using default priors (no previous season data)\n"
     ]
    },
    {
     "name": "stderr",
     "output_type": "stream",
     "text": [
      "c:\\Users\\Owner\\AppData\\Local\\Programs\\Python\\Python312\\Lib\\site-packages\\pymc\\data.py:274: FutureWarning: ConstantData is deprecated. All Data variables are now mutable. Use Data instead.\n",
      "  warnings.warn(\n"
     ]
    },
    {
     "name": "stdout",
     "output_type": "stream",
     "text": [
      "\n",
      "2023-2024 Results:\n",
      "Decay Rate | Avg LL    | Std LL\n",
      "-----------------------------------\n",
      "0.0001     | -3.2008 | 0.1783\n",
      "0.0005     | -3.1991 | 0.1787\n",
      "0.0010     | -3.1993 | 0.1804\n",
      "0.0020     | -3.1962 | 0.1808\n",
      "0.0035     | -3.1960 | 0.1851 *\n",
      "0.0050     | -3.1968 | 0.1892\n",
      "0.0100     | -3.2110 | 0.2100\n",
      "\n",
      "Best for 2023-2024: 0.0035 (LL=-3.1960)\n",
      "\n",
      "======================================================================\n",
      "Testing Premier_League 2021-2022\n",
      "======================================================================\n",
      "  → Using default priors (no previous season data)\n"
     ]
    },
    {
     "name": "stderr",
     "output_type": "stream",
     "text": [
      "c:\\Users\\Owner\\AppData\\Local\\Programs\\Python\\Python312\\Lib\\site-packages\\pymc\\data.py:274: FutureWarning: ConstantData is deprecated. All Data variables are now mutable. Use Data instead.\n",
      "  warnings.warn(\n"
     ]
    },
    {
     "name": "stdout",
     "output_type": "stream",
     "text": [
      "  → Using default priors (no previous season data)\n"
     ]
    },
    {
     "name": "stderr",
     "output_type": "stream",
     "text": [
      "c:\\Users\\Owner\\AppData\\Local\\Programs\\Python\\Python312\\Lib\\site-packages\\pymc\\data.py:274: FutureWarning: ConstantData is deprecated. All Data variables are now mutable. Use Data instead.\n",
      "  warnings.warn(\n",
      "The rhat statistic is larger than 1.01 for some parameters. This indicates problems during sampling. See https://arxiv.org/abs/1903.08008 for details\n",
      "The effective sample size per chain is smaller than 100 for some parameters.  A higher number is needed for reliable rhat and ess computation. See https://arxiv.org/abs/1903.08008 for details\n"
     ]
    },
    {
     "name": "stdout",
     "output_type": "stream",
     "text": [
      "  → Using default priors (no previous season data)\n"
     ]
    },
    {
     "name": "stderr",
     "output_type": "stream",
     "text": [
      "c:\\Users\\Owner\\AppData\\Local\\Programs\\Python\\Python312\\Lib\\site-packages\\pymc\\data.py:274: FutureWarning: ConstantData is deprecated. All Data variables are now mutable. Use Data instead.\n",
      "  warnings.warn(\n",
      "The rhat statistic is larger than 1.01 for some parameters. This indicates problems during sampling. See https://arxiv.org/abs/1903.08008 for details\n",
      "The effective sample size per chain is smaller than 100 for some parameters.  A higher number is needed for reliable rhat and ess computation. See https://arxiv.org/abs/1903.08008 for details\n"
     ]
    },
    {
     "name": "stdout",
     "output_type": "stream",
     "text": [
      "  → Using default priors (no previous season data)\n"
     ]
    },
    {
     "name": "stderr",
     "output_type": "stream",
     "text": [
      "c:\\Users\\Owner\\AppData\\Local\\Programs\\Python\\Python312\\Lib\\site-packages\\pymc\\data.py:274: FutureWarning: ConstantData is deprecated. All Data variables are now mutable. Use Data instead.\n",
      "  warnings.warn(\n",
      "The rhat statistic is larger than 1.01 for some parameters. This indicates problems during sampling. See https://arxiv.org/abs/1903.08008 for details\n",
      "The effective sample size per chain is smaller than 100 for some parameters.  A higher number is needed for reliable rhat and ess computation. See https://arxiv.org/abs/1903.08008 for details\n"
     ]
    },
    {
     "name": "stdout",
     "output_type": "stream",
     "text": [
      "  → Using default priors (no previous season data)\n"
     ]
    },
    {
     "name": "stderr",
     "output_type": "stream",
     "text": [
      "c:\\Users\\Owner\\AppData\\Local\\Programs\\Python\\Python312\\Lib\\site-packages\\pymc\\data.py:274: FutureWarning: ConstantData is deprecated. All Data variables are now mutable. Use Data instead.\n",
      "  warnings.warn(\n",
      "The rhat statistic is larger than 1.01 for some parameters. This indicates problems during sampling. See https://arxiv.org/abs/1903.08008 for details\n",
      "The effective sample size per chain is smaller than 100 for some parameters.  A higher number is needed for reliable rhat and ess computation. See https://arxiv.org/abs/1903.08008 for details\n"
     ]
    },
    {
     "name": "stdout",
     "output_type": "stream",
     "text": [
      "  → Using default priors (no previous season data)\n"
     ]
    },
    {
     "name": "stderr",
     "output_type": "stream",
     "text": [
      "c:\\Users\\Owner\\AppData\\Local\\Programs\\Python\\Python312\\Lib\\site-packages\\pymc\\data.py:274: FutureWarning: ConstantData is deprecated. All Data variables are now mutable. Use Data instead.\n",
      "  warnings.warn(\n"
     ]
    },
    {
     "name": "stdout",
     "output_type": "stream",
     "text": [
      "  → Using default priors (no previous season data)\n"
     ]
    },
    {
     "name": "stderr",
     "output_type": "stream",
     "text": [
      "c:\\Users\\Owner\\AppData\\Local\\Programs\\Python\\Python312\\Lib\\site-packages\\pymc\\data.py:274: FutureWarning: ConstantData is deprecated. All Data variables are now mutable. Use Data instead.\n",
      "  warnings.warn(\n",
      "The rhat statistic is larger than 1.01 for some parameters. This indicates problems during sampling. See https://arxiv.org/abs/1903.08008 for details\n",
      "The effective sample size per chain is smaller than 100 for some parameters.  A higher number is needed for reliable rhat and ess computation. See https://arxiv.org/abs/1903.08008 for details\n"
     ]
    },
    {
     "name": "stdout",
     "output_type": "stream",
     "text": [
      "  → Using default priors (no previous season data)\n"
     ]
    },
    {
     "name": "stderr",
     "output_type": "stream",
     "text": [
      "c:\\Users\\Owner\\AppData\\Local\\Programs\\Python\\Python312\\Lib\\site-packages\\pymc\\data.py:274: FutureWarning: ConstantData is deprecated. All Data variables are now mutable. Use Data instead.\n",
      "  warnings.warn(\n",
      "The rhat statistic is larger than 1.01 for some parameters. This indicates problems during sampling. See https://arxiv.org/abs/1903.08008 for details\n"
     ]
    },
    {
     "name": "stdout",
     "output_type": "stream",
     "text": [
      "  → Using default priors (no previous season data)\n"
     ]
    },
    {
     "name": "stderr",
     "output_type": "stream",
     "text": [
      "c:\\Users\\Owner\\AppData\\Local\\Programs\\Python\\Python312\\Lib\\site-packages\\pymc\\data.py:274: FutureWarning: ConstantData is deprecated. All Data variables are now mutable. Use Data instead.\n",
      "  warnings.warn(\n",
      "The rhat statistic is larger than 1.01 for some parameters. This indicates problems during sampling. See https://arxiv.org/abs/1903.08008 for details\n",
      "The effective sample size per chain is smaller than 100 for some parameters.  A higher number is needed for reliable rhat and ess computation. See https://arxiv.org/abs/1903.08008 for details\n"
     ]
    },
    {
     "name": "stdout",
     "output_type": "stream",
     "text": [
      "  → Using default priors (no previous season data)\n"
     ]
    },
    {
     "name": "stderr",
     "output_type": "stream",
     "text": [
      "c:\\Users\\Owner\\AppData\\Local\\Programs\\Python\\Python312\\Lib\\site-packages\\pymc\\data.py:274: FutureWarning: ConstantData is deprecated. All Data variables are now mutable. Use Data instead.\n",
      "  warnings.warn(\n",
      "The rhat statistic is larger than 1.01 for some parameters. This indicates problems during sampling. See https://arxiv.org/abs/1903.08008 for details\n",
      "The effective sample size per chain is smaller than 100 for some parameters.  A higher number is needed for reliable rhat and ess computation. See https://arxiv.org/abs/1903.08008 for details\n"
     ]
    },
    {
     "name": "stdout",
     "output_type": "stream",
     "text": [
      "  → Using default priors (no previous season data)\n"
     ]
    },
    {
     "name": "stderr",
     "output_type": "stream",
     "text": [
      "c:\\Users\\Owner\\AppData\\Local\\Programs\\Python\\Python312\\Lib\\site-packages\\pymc\\data.py:274: FutureWarning: ConstantData is deprecated. All Data variables are now mutable. Use Data instead.\n",
      "  warnings.warn(\n"
     ]
    },
    {
     "name": "stdout",
     "output_type": "stream",
     "text": [
      "  → Using default priors (no previous season data)\n"
     ]
    },
    {
     "name": "stderr",
     "output_type": "stream",
     "text": [
      "c:\\Users\\Owner\\AppData\\Local\\Programs\\Python\\Python312\\Lib\\site-packages\\pymc\\data.py:274: FutureWarning: ConstantData is deprecated. All Data variables are now mutable. Use Data instead.\n",
      "  warnings.warn(\n"
     ]
    },
    {
     "name": "stdout",
     "output_type": "stream",
     "text": [
      "  → Using default priors (no previous season data)\n"
     ]
    },
    {
     "name": "stderr",
     "output_type": "stream",
     "text": [
      "c:\\Users\\Owner\\AppData\\Local\\Programs\\Python\\Python312\\Lib\\site-packages\\pymc\\data.py:274: FutureWarning: ConstantData is deprecated. All Data variables are now mutable. Use Data instead.\n",
      "  warnings.warn(\n",
      "The rhat statistic is larger than 1.01 for some parameters. This indicates problems during sampling. See https://arxiv.org/abs/1903.08008 for details\n"
     ]
    },
    {
     "name": "stdout",
     "output_type": "stream",
     "text": [
      "  → Using default priors (no previous season data)\n"
     ]
    },
    {
     "name": "stderr",
     "output_type": "stream",
     "text": [
      "c:\\Users\\Owner\\AppData\\Local\\Programs\\Python\\Python312\\Lib\\site-packages\\pymc\\data.py:274: FutureWarning: ConstantData is deprecated. All Data variables are now mutable. Use Data instead.\n",
      "  warnings.warn(\n",
      "The rhat statistic is larger than 1.01 for some parameters. This indicates problems during sampling. See https://arxiv.org/abs/1903.08008 for details\n",
      "The effective sample size per chain is smaller than 100 for some parameters.  A higher number is needed for reliable rhat and ess computation. See https://arxiv.org/abs/1903.08008 for details\n"
     ]
    },
    {
     "name": "stdout",
     "output_type": "stream",
     "text": [
      "  → Using default priors (no previous season data)\n"
     ]
    },
    {
     "name": "stderr",
     "output_type": "stream",
     "text": [
      "c:\\Users\\Owner\\AppData\\Local\\Programs\\Python\\Python312\\Lib\\site-packages\\pymc\\data.py:274: FutureWarning: ConstantData is deprecated. All Data variables are now mutable. Use Data instead.\n",
      "  warnings.warn(\n",
      "The effective sample size per chain is smaller than 100 for some parameters.  A higher number is needed for reliable rhat and ess computation. See https://arxiv.org/abs/1903.08008 for details\n"
     ]
    },
    {
     "name": "stdout",
     "output_type": "stream",
     "text": [
      "  → Using default priors (no previous season data)\n"
     ]
    },
    {
     "name": "stderr",
     "output_type": "stream",
     "text": [
      "c:\\Users\\Owner\\AppData\\Local\\Programs\\Python\\Python312\\Lib\\site-packages\\pymc\\data.py:274: FutureWarning: ConstantData is deprecated. All Data variables are now mutable. Use Data instead.\n",
      "  warnings.warn(\n"
     ]
    },
    {
     "name": "stdout",
     "output_type": "stream",
     "text": [
      "  → Using default priors (no previous season data)\n"
     ]
    },
    {
     "name": "stderr",
     "output_type": "stream",
     "text": [
      "c:\\Users\\Owner\\AppData\\Local\\Programs\\Python\\Python312\\Lib\\site-packages\\pymc\\data.py:274: FutureWarning: ConstantData is deprecated. All Data variables are now mutable. Use Data instead.\n",
      "  warnings.warn(\n"
     ]
    },
    {
     "name": "stdout",
     "output_type": "stream",
     "text": [
      "  → Using default priors (no previous season data)\n"
     ]
    },
    {
     "name": "stderr",
     "output_type": "stream",
     "text": [
      "c:\\Users\\Owner\\AppData\\Local\\Programs\\Python\\Python312\\Lib\\site-packages\\pymc\\data.py:274: FutureWarning: ConstantData is deprecated. All Data variables are now mutable. Use Data instead.\n",
      "  warnings.warn(\n"
     ]
    },
    {
     "name": "stdout",
     "output_type": "stream",
     "text": [
      "  → Using default priors (no previous season data)\n"
     ]
    },
    {
     "name": "stderr",
     "output_type": "stream",
     "text": [
      "c:\\Users\\Owner\\AppData\\Local\\Programs\\Python\\Python312\\Lib\\site-packages\\pymc\\data.py:274: FutureWarning: ConstantData is deprecated. All Data variables are now mutable. Use Data instead.\n",
      "  warnings.warn(\n",
      "The effective sample size per chain is smaller than 100 for some parameters.  A higher number is needed for reliable rhat and ess computation. See https://arxiv.org/abs/1903.08008 for details\n"
     ]
    },
    {
     "name": "stdout",
     "output_type": "stream",
     "text": [
      "  → Using default priors (no previous season data)\n"
     ]
    },
    {
     "name": "stderr",
     "output_type": "stream",
     "text": [
      "c:\\Users\\Owner\\AppData\\Local\\Programs\\Python\\Python312\\Lib\\site-packages\\pymc\\data.py:274: FutureWarning: ConstantData is deprecated. All Data variables are now mutable. Use Data instead.\n",
      "  warnings.warn(\n",
      "The rhat statistic is larger than 1.01 for some parameters. This indicates problems during sampling. See https://arxiv.org/abs/1903.08008 for details\n",
      "The effective sample size per chain is smaller than 100 for some parameters.  A higher number is needed for reliable rhat and ess computation. See https://arxiv.org/abs/1903.08008 for details\n"
     ]
    },
    {
     "name": "stdout",
     "output_type": "stream",
     "text": [
      "  → Using default priors (no previous season data)\n"
     ]
    },
    {
     "name": "stderr",
     "output_type": "stream",
     "text": [
      "c:\\Users\\Owner\\AppData\\Local\\Programs\\Python\\Python312\\Lib\\site-packages\\pymc\\data.py:274: FutureWarning: ConstantData is deprecated. All Data variables are now mutable. Use Data instead.\n",
      "  warnings.warn(\n"
     ]
    },
    {
     "name": "stdout",
     "output_type": "stream",
     "text": [
      "  → Using default priors (no previous season data)\n"
     ]
    },
    {
     "name": "stderr",
     "output_type": "stream",
     "text": [
      "c:\\Users\\Owner\\AppData\\Local\\Programs\\Python\\Python312\\Lib\\site-packages\\pymc\\data.py:274: FutureWarning: ConstantData is deprecated. All Data variables are now mutable. Use Data instead.\n",
      "  warnings.warn(\n"
     ]
    },
    {
     "name": "stdout",
     "output_type": "stream",
     "text": [
      "  → Using default priors (no previous season data)\n"
     ]
    },
    {
     "name": "stderr",
     "output_type": "stream",
     "text": [
      "c:\\Users\\Owner\\AppData\\Local\\Programs\\Python\\Python312\\Lib\\site-packages\\pymc\\data.py:274: FutureWarning: ConstantData is deprecated. All Data variables are now mutable. Use Data instead.\n",
      "  warnings.warn(\n"
     ]
    },
    {
     "name": "stdout",
     "output_type": "stream",
     "text": [
      "  → Using default priors (no previous season data)\n"
     ]
    },
    {
     "name": "stderr",
     "output_type": "stream",
     "text": [
      "c:\\Users\\Owner\\AppData\\Local\\Programs\\Python\\Python312\\Lib\\site-packages\\pymc\\data.py:274: FutureWarning: ConstantData is deprecated. All Data variables are now mutable. Use Data instead.\n",
      "  warnings.warn(\n"
     ]
    },
    {
     "name": "stdout",
     "output_type": "stream",
     "text": [
      "  → Using default priors (no previous season data)\n"
     ]
    },
    {
     "name": "stderr",
     "output_type": "stream",
     "text": [
      "c:\\Users\\Owner\\AppData\\Local\\Programs\\Python\\Python312\\Lib\\site-packages\\pymc\\data.py:274: FutureWarning: ConstantData is deprecated. All Data variables are now mutable. Use Data instead.\n",
      "  warnings.warn(\n",
      "The rhat statistic is larger than 1.01 for some parameters. This indicates problems during sampling. See https://arxiv.org/abs/1903.08008 for details\n",
      "The effective sample size per chain is smaller than 100 for some parameters.  A higher number is needed for reliable rhat and ess computation. See https://arxiv.org/abs/1903.08008 for details\n"
     ]
    },
    {
     "name": "stdout",
     "output_type": "stream",
     "text": [
      "  → Using default priors (no previous season data)\n"
     ]
    },
    {
     "name": "stderr",
     "output_type": "stream",
     "text": [
      "c:\\Users\\Owner\\AppData\\Local\\Programs\\Python\\Python312\\Lib\\site-packages\\pymc\\data.py:274: FutureWarning: ConstantData is deprecated. All Data variables are now mutable. Use Data instead.\n",
      "  warnings.warn(\n"
     ]
    },
    {
     "name": "stdout",
     "output_type": "stream",
     "text": [
      "  → Using default priors (no previous season data)\n"
     ]
    },
    {
     "name": "stderr",
     "output_type": "stream",
     "text": [
      "c:\\Users\\Owner\\AppData\\Local\\Programs\\Python\\Python312\\Lib\\site-packages\\pymc\\data.py:274: FutureWarning: ConstantData is deprecated. All Data variables are now mutable. Use Data instead.\n",
      "  warnings.warn(\n"
     ]
    },
    {
     "name": "stdout",
     "output_type": "stream",
     "text": [
      "  → Using default priors (no previous season data)\n"
     ]
    },
    {
     "name": "stderr",
     "output_type": "stream",
     "text": [
      "c:\\Users\\Owner\\AppData\\Local\\Programs\\Python\\Python312\\Lib\\site-packages\\pymc\\data.py:274: FutureWarning: ConstantData is deprecated. All Data variables are now mutable. Use Data instead.\n",
      "  warnings.warn(\n"
     ]
    },
    {
     "name": "stdout",
     "output_type": "stream",
     "text": [
      "  → Using default priors (no previous season data)\n"
     ]
    },
    {
     "name": "stderr",
     "output_type": "stream",
     "text": [
      "c:\\Users\\Owner\\AppData\\Local\\Programs\\Python\\Python312\\Lib\\site-packages\\pymc\\data.py:274: FutureWarning: ConstantData is deprecated. All Data variables are now mutable. Use Data instead.\n",
      "  warnings.warn(\n"
     ]
    },
    {
     "name": "stdout",
     "output_type": "stream",
     "text": [
      "  → Using default priors (no previous season data)\n"
     ]
    },
    {
     "name": "stderr",
     "output_type": "stream",
     "text": [
      "c:\\Users\\Owner\\AppData\\Local\\Programs\\Python\\Python312\\Lib\\site-packages\\pymc\\data.py:274: FutureWarning: ConstantData is deprecated. All Data variables are now mutable. Use Data instead.\n",
      "  warnings.warn(\n"
     ]
    },
    {
     "name": "stdout",
     "output_type": "stream",
     "text": [
      "  → Using default priors (no previous season data)\n"
     ]
    },
    {
     "name": "stderr",
     "output_type": "stream",
     "text": [
      "c:\\Users\\Owner\\AppData\\Local\\Programs\\Python\\Python312\\Lib\\site-packages\\pymc\\data.py:274: FutureWarning: ConstantData is deprecated. All Data variables are now mutable. Use Data instead.\n",
      "  warnings.warn(\n"
     ]
    },
    {
     "name": "stdout",
     "output_type": "stream",
     "text": [
      "  → Using default priors (no previous season data)\n"
     ]
    },
    {
     "name": "stderr",
     "output_type": "stream",
     "text": [
      "c:\\Users\\Owner\\AppData\\Local\\Programs\\Python\\Python312\\Lib\\site-packages\\pymc\\data.py:274: FutureWarning: ConstantData is deprecated. All Data variables are now mutable. Use Data instead.\n",
      "  warnings.warn(\n"
     ]
    },
    {
     "name": "stdout",
     "output_type": "stream",
     "text": [
      "  → Using default priors (no previous season data)\n"
     ]
    },
    {
     "name": "stderr",
     "output_type": "stream",
     "text": [
      "c:\\Users\\Owner\\AppData\\Local\\Programs\\Python\\Python312\\Lib\\site-packages\\pymc\\data.py:274: FutureWarning: ConstantData is deprecated. All Data variables are now mutable. Use Data instead.\n",
      "  warnings.warn(\n"
     ]
    },
    {
     "name": "stdout",
     "output_type": "stream",
     "text": [
      "  → Using default priors (no previous season data)\n"
     ]
    },
    {
     "name": "stderr",
     "output_type": "stream",
     "text": [
      "c:\\Users\\Owner\\AppData\\Local\\Programs\\Python\\Python312\\Lib\\site-packages\\pymc\\data.py:274: FutureWarning: ConstantData is deprecated. All Data variables are now mutable. Use Data instead.\n",
      "  warnings.warn(\n"
     ]
    },
    {
     "name": "stdout",
     "output_type": "stream",
     "text": [
      "  → Using default priors (no previous season data)\n"
     ]
    },
    {
     "name": "stderr",
     "output_type": "stream",
     "text": [
      "c:\\Users\\Owner\\AppData\\Local\\Programs\\Python\\Python312\\Lib\\site-packages\\pymc\\data.py:274: FutureWarning: ConstantData is deprecated. All Data variables are now mutable. Use Data instead.\n",
      "  warnings.warn(\n"
     ]
    },
    {
     "name": "stdout",
     "output_type": "stream",
     "text": [
      "\n",
      "2021-2022 Results:\n",
      "Decay Rate | Avg LL    | Std LL\n",
      "-----------------------------------\n",
      "0.0001     | -2.9321 | 0.0935\n",
      "0.0005     | -2.9310 | 0.0932\n",
      "0.0010     | -2.9307 | 0.0929\n",
      "0.0020     | -2.9303 | 0.0942 *\n",
      "0.0035     | -2.9347 | 0.0959\n",
      "0.0050     | -2.9385 | 0.1009\n",
      "0.0100     | -2.9703 | 0.1297\n",
      "\n",
      "Best for 2021-2022: 0.0020 (LL=-2.9303)\n",
      "\n",
      "======================================================================\n",
      "Testing Premier_League 2024-2025\n",
      "======================================================================\n",
      "  → Using default priors (no previous season data)\n"
     ]
    },
    {
     "name": "stderr",
     "output_type": "stream",
     "text": [
      "c:\\Users\\Owner\\AppData\\Local\\Programs\\Python\\Python312\\Lib\\site-packages\\pymc\\data.py:274: FutureWarning: ConstantData is deprecated. All Data variables are now mutable. Use Data instead.\n",
      "  warnings.warn(\n"
     ]
    },
    {
     "name": "stdout",
     "output_type": "stream",
     "text": [
      "  → Using default priors (no previous season data)\n"
     ]
    },
    {
     "name": "stderr",
     "output_type": "stream",
     "text": [
      "c:\\Users\\Owner\\AppData\\Local\\Programs\\Python\\Python312\\Lib\\site-packages\\pymc\\data.py:274: FutureWarning: ConstantData is deprecated. All Data variables are now mutable. Use Data instead.\n",
      "  warnings.warn(\n"
     ]
    },
    {
     "name": "stdout",
     "output_type": "stream",
     "text": [
      "  → Using default priors (no previous season data)\n"
     ]
    },
    {
     "name": "stderr",
     "output_type": "stream",
     "text": [
      "c:\\Users\\Owner\\AppData\\Local\\Programs\\Python\\Python312\\Lib\\site-packages\\pymc\\data.py:274: FutureWarning: ConstantData is deprecated. All Data variables are now mutable. Use Data instead.\n",
      "  warnings.warn(\n",
      "The effective sample size per chain is smaller than 100 for some parameters.  A higher number is needed for reliable rhat and ess computation. See https://arxiv.org/abs/1903.08008 for details\n"
     ]
    },
    {
     "name": "stdout",
     "output_type": "stream",
     "text": [
      "  → Using default priors (no previous season data)\n"
     ]
    },
    {
     "name": "stderr",
     "output_type": "stream",
     "text": [
      "c:\\Users\\Owner\\AppData\\Local\\Programs\\Python\\Python312\\Lib\\site-packages\\pymc\\data.py:274: FutureWarning: ConstantData is deprecated. All Data variables are now mutable. Use Data instead.\n",
      "  warnings.warn(\n",
      "The rhat statistic is larger than 1.01 for some parameters. This indicates problems during sampling. See https://arxiv.org/abs/1903.08008 for details\n",
      "The effective sample size per chain is smaller than 100 for some parameters.  A higher number is needed for reliable rhat and ess computation. See https://arxiv.org/abs/1903.08008 for details\n"
     ]
    },
    {
     "name": "stdout",
     "output_type": "stream",
     "text": [
      "  → Using default priors (no previous season data)\n"
     ]
    },
    {
     "name": "stderr",
     "output_type": "stream",
     "text": [
      "c:\\Users\\Owner\\AppData\\Local\\Programs\\Python\\Python312\\Lib\\site-packages\\pymc\\data.py:274: FutureWarning: ConstantData is deprecated. All Data variables are now mutable. Use Data instead.\n",
      "  warnings.warn(\n",
      "The rhat statistic is larger than 1.01 for some parameters. This indicates problems during sampling. See https://arxiv.org/abs/1903.08008 for details\n",
      "The effective sample size per chain is smaller than 100 for some parameters.  A higher number is needed for reliable rhat and ess computation. See https://arxiv.org/abs/1903.08008 for details\n"
     ]
    },
    {
     "name": "stdout",
     "output_type": "stream",
     "text": [
      "  → Using default priors (no previous season data)\n"
     ]
    },
    {
     "name": "stderr",
     "output_type": "stream",
     "text": [
      "c:\\Users\\Owner\\AppData\\Local\\Programs\\Python\\Python312\\Lib\\site-packages\\pymc\\data.py:274: FutureWarning: ConstantData is deprecated. All Data variables are now mutable. Use Data instead.\n",
      "  warnings.warn(\n"
     ]
    },
    {
     "name": "stdout",
     "output_type": "stream",
     "text": [
      "  → Using default priors (no previous season data)\n"
     ]
    },
    {
     "name": "stderr",
     "output_type": "stream",
     "text": [
      "c:\\Users\\Owner\\AppData\\Local\\Programs\\Python\\Python312\\Lib\\site-packages\\pymc\\data.py:274: FutureWarning: ConstantData is deprecated. All Data variables are now mutable. Use Data instead.\n",
      "  warnings.warn(\n"
     ]
    },
    {
     "name": "stdout",
     "output_type": "stream",
     "text": [
      "  → Using default priors (no previous season data)\n"
     ]
    },
    {
     "name": "stderr",
     "output_type": "stream",
     "text": [
      "c:\\Users\\Owner\\AppData\\Local\\Programs\\Python\\Python312\\Lib\\site-packages\\pymc\\data.py:274: FutureWarning: ConstantData is deprecated. All Data variables are now mutable. Use Data instead.\n",
      "  warnings.warn(\n",
      "The effective sample size per chain is smaller than 100 for some parameters.  A higher number is needed for reliable rhat and ess computation. See https://arxiv.org/abs/1903.08008 for details\n"
     ]
    },
    {
     "name": "stdout",
     "output_type": "stream",
     "text": [
      "  → Using default priors (no previous season data)\n"
     ]
    },
    {
     "name": "stderr",
     "output_type": "stream",
     "text": [
      "c:\\Users\\Owner\\AppData\\Local\\Programs\\Python\\Python312\\Lib\\site-packages\\pymc\\data.py:274: FutureWarning: ConstantData is deprecated. All Data variables are now mutable. Use Data instead.\n",
      "  warnings.warn(\n",
      "The effective sample size per chain is smaller than 100 for some parameters.  A higher number is needed for reliable rhat and ess computation. See https://arxiv.org/abs/1903.08008 for details\n"
     ]
    },
    {
     "name": "stdout",
     "output_type": "stream",
     "text": [
      "  → Using default priors (no previous season data)\n"
     ]
    },
    {
     "name": "stderr",
     "output_type": "stream",
     "text": [
      "c:\\Users\\Owner\\AppData\\Local\\Programs\\Python\\Python312\\Lib\\site-packages\\pymc\\data.py:274: FutureWarning: ConstantData is deprecated. All Data variables are now mutable. Use Data instead.\n",
      "  warnings.warn(\n",
      "The rhat statistic is larger than 1.01 for some parameters. This indicates problems during sampling. See https://arxiv.org/abs/1903.08008 for details\n",
      "The effective sample size per chain is smaller than 100 for some parameters.  A higher number is needed for reliable rhat and ess computation. See https://arxiv.org/abs/1903.08008 for details\n"
     ]
    },
    {
     "name": "stdout",
     "output_type": "stream",
     "text": [
      "  → Using default priors (no previous season data)\n"
     ]
    },
    {
     "name": "stderr",
     "output_type": "stream",
     "text": [
      "c:\\Users\\Owner\\AppData\\Local\\Programs\\Python\\Python312\\Lib\\site-packages\\pymc\\data.py:274: FutureWarning: ConstantData is deprecated. All Data variables are now mutable. Use Data instead.\n",
      "  warnings.warn(\n"
     ]
    },
    {
     "name": "stdout",
     "output_type": "stream",
     "text": [
      "  → Using default priors (no previous season data)\n"
     ]
    },
    {
     "name": "stderr",
     "output_type": "stream",
     "text": [
      "c:\\Users\\Owner\\AppData\\Local\\Programs\\Python\\Python312\\Lib\\site-packages\\pymc\\data.py:274: FutureWarning: ConstantData is deprecated. All Data variables are now mutable. Use Data instead.\n",
      "  warnings.warn(\n",
      "The rhat statistic is larger than 1.01 for some parameters. This indicates problems during sampling. See https://arxiv.org/abs/1903.08008 for details\n"
     ]
    },
    {
     "name": "stdout",
     "output_type": "stream",
     "text": [
      "  → Using default priors (no previous season data)\n"
     ]
    },
    {
     "name": "stderr",
     "output_type": "stream",
     "text": [
      "c:\\Users\\Owner\\AppData\\Local\\Programs\\Python\\Python312\\Lib\\site-packages\\pymc\\data.py:274: FutureWarning: ConstantData is deprecated. All Data variables are now mutable. Use Data instead.\n",
      "  warnings.warn(\n",
      "The effective sample size per chain is smaller than 100 for some parameters.  A higher number is needed for reliable rhat and ess computation. See https://arxiv.org/abs/1903.08008 for details\n"
     ]
    },
    {
     "name": "stdout",
     "output_type": "stream",
     "text": [
      "  → Using default priors (no previous season data)\n"
     ]
    },
    {
     "name": "stderr",
     "output_type": "stream",
     "text": [
      "c:\\Users\\Owner\\AppData\\Local\\Programs\\Python\\Python312\\Lib\\site-packages\\pymc\\data.py:274: FutureWarning: ConstantData is deprecated. All Data variables are now mutable. Use Data instead.\n",
      "  warnings.warn(\n",
      "The rhat statistic is larger than 1.01 for some parameters. This indicates problems during sampling. See https://arxiv.org/abs/1903.08008 for details\n",
      "The effective sample size per chain is smaller than 100 for some parameters.  A higher number is needed for reliable rhat and ess computation. See https://arxiv.org/abs/1903.08008 for details\n"
     ]
    },
    {
     "name": "stdout",
     "output_type": "stream",
     "text": [
      "  → Using default priors (no previous season data)\n"
     ]
    },
    {
     "name": "stderr",
     "output_type": "stream",
     "text": [
      "c:\\Users\\Owner\\AppData\\Local\\Programs\\Python\\Python312\\Lib\\site-packages\\pymc\\data.py:274: FutureWarning: ConstantData is deprecated. All Data variables are now mutable. Use Data instead.\n",
      "  warnings.warn(\n",
      "The rhat statistic is larger than 1.01 for some parameters. This indicates problems during sampling. See https://arxiv.org/abs/1903.08008 for details\n",
      "The effective sample size per chain is smaller than 100 for some parameters.  A higher number is needed for reliable rhat and ess computation. See https://arxiv.org/abs/1903.08008 for details\n"
     ]
    },
    {
     "name": "stdout",
     "output_type": "stream",
     "text": [
      "  → Using default priors (no previous season data)\n"
     ]
    },
    {
     "name": "stderr",
     "output_type": "stream",
     "text": [
      "c:\\Users\\Owner\\AppData\\Local\\Programs\\Python\\Python312\\Lib\\site-packages\\pymc\\data.py:274: FutureWarning: ConstantData is deprecated. All Data variables are now mutable. Use Data instead.\n",
      "  warnings.warn(\n"
     ]
    },
    {
     "name": "stdout",
     "output_type": "stream",
     "text": [
      "  → Using default priors (no previous season data)\n"
     ]
    },
    {
     "name": "stderr",
     "output_type": "stream",
     "text": [
      "c:\\Users\\Owner\\AppData\\Local\\Programs\\Python\\Python312\\Lib\\site-packages\\pymc\\data.py:274: FutureWarning: ConstantData is deprecated. All Data variables are now mutable. Use Data instead.\n",
      "  warnings.warn(\n"
     ]
    },
    {
     "name": "stdout",
     "output_type": "stream",
     "text": [
      "  → Using default priors (no previous season data)\n"
     ]
    },
    {
     "name": "stderr",
     "output_type": "stream",
     "text": [
      "c:\\Users\\Owner\\AppData\\Local\\Programs\\Python\\Python312\\Lib\\site-packages\\pymc\\data.py:274: FutureWarning: ConstantData is deprecated. All Data variables are now mutable. Use Data instead.\n",
      "  warnings.warn(\n",
      "The rhat statistic is larger than 1.01 for some parameters. This indicates problems during sampling. See https://arxiv.org/abs/1903.08008 for details\n"
     ]
    },
    {
     "name": "stdout",
     "output_type": "stream",
     "text": [
      "  → Using default priors (no previous season data)\n"
     ]
    },
    {
     "name": "stderr",
     "output_type": "stream",
     "text": [
      "c:\\Users\\Owner\\AppData\\Local\\Programs\\Python\\Python312\\Lib\\site-packages\\pymc\\data.py:274: FutureWarning: ConstantData is deprecated. All Data variables are now mutable. Use Data instead.\n",
      "  warnings.warn(\n",
      "The rhat statistic is larger than 1.01 for some parameters. This indicates problems during sampling. See https://arxiv.org/abs/1903.08008 for details\n",
      "The effective sample size per chain is smaller than 100 for some parameters.  A higher number is needed for reliable rhat and ess computation. See https://arxiv.org/abs/1903.08008 for details\n"
     ]
    },
    {
     "name": "stdout",
     "output_type": "stream",
     "text": [
      "  → Using default priors (no previous season data)\n"
     ]
    },
    {
     "name": "stderr",
     "output_type": "stream",
     "text": [
      "c:\\Users\\Owner\\AppData\\Local\\Programs\\Python\\Python312\\Lib\\site-packages\\pymc\\data.py:274: FutureWarning: ConstantData is deprecated. All Data variables are now mutable. Use Data instead.\n",
      "  warnings.warn(\n",
      "The rhat statistic is larger than 1.01 for some parameters. This indicates problems during sampling. See https://arxiv.org/abs/1903.08008 for details\n",
      "The effective sample size per chain is smaller than 100 for some parameters.  A higher number is needed for reliable rhat and ess computation. See https://arxiv.org/abs/1903.08008 for details\n"
     ]
    },
    {
     "name": "stdout",
     "output_type": "stream",
     "text": [
      "  → Using default priors (no previous season data)\n"
     ]
    },
    {
     "name": "stderr",
     "output_type": "stream",
     "text": [
      "c:\\Users\\Owner\\AppData\\Local\\Programs\\Python\\Python312\\Lib\\site-packages\\pymc\\data.py:274: FutureWarning: ConstantData is deprecated. All Data variables are now mutable. Use Data instead.\n",
      "  warnings.warn(\n"
     ]
    },
    {
     "name": "stdout",
     "output_type": "stream",
     "text": [
      "  → Using default priors (no previous season data)\n"
     ]
    },
    {
     "name": "stderr",
     "output_type": "stream",
     "text": [
      "c:\\Users\\Owner\\AppData\\Local\\Programs\\Python\\Python312\\Lib\\site-packages\\pymc\\data.py:274: FutureWarning: ConstantData is deprecated. All Data variables are now mutable. Use Data instead.\n",
      "  warnings.warn(\n"
     ]
    },
    {
     "name": "stdout",
     "output_type": "stream",
     "text": [
      "  → Using default priors (no previous season data)\n"
     ]
    },
    {
     "name": "stderr",
     "output_type": "stream",
     "text": [
      "c:\\Users\\Owner\\AppData\\Local\\Programs\\Python\\Python312\\Lib\\site-packages\\pymc\\data.py:274: FutureWarning: ConstantData is deprecated. All Data variables are now mutable. Use Data instead.\n",
      "  warnings.warn(\n"
     ]
    },
    {
     "name": "stdout",
     "output_type": "stream",
     "text": [
      "  → Using default priors (no previous season data)\n"
     ]
    },
    {
     "name": "stderr",
     "output_type": "stream",
     "text": [
      "c:\\Users\\Owner\\AppData\\Local\\Programs\\Python\\Python312\\Lib\\site-packages\\pymc\\data.py:274: FutureWarning: ConstantData is deprecated. All Data variables are now mutable. Use Data instead.\n",
      "  warnings.warn(\n",
      "The effective sample size per chain is smaller than 100 for some parameters.  A higher number is needed for reliable rhat and ess computation. See https://arxiv.org/abs/1903.08008 for details\n"
     ]
    },
    {
     "name": "stdout",
     "output_type": "stream",
     "text": [
      "  → Using default priors (no previous season data)\n"
     ]
    },
    {
     "name": "stderr",
     "output_type": "stream",
     "text": [
      "c:\\Users\\Owner\\AppData\\Local\\Programs\\Python\\Python312\\Lib\\site-packages\\pymc\\data.py:274: FutureWarning: ConstantData is deprecated. All Data variables are now mutable. Use Data instead.\n",
      "  warnings.warn(\n",
      "The rhat statistic is larger than 1.01 for some parameters. This indicates problems during sampling. See https://arxiv.org/abs/1903.08008 for details\n",
      "The effective sample size per chain is smaller than 100 for some parameters.  A higher number is needed for reliable rhat and ess computation. See https://arxiv.org/abs/1903.08008 for details\n"
     ]
    },
    {
     "name": "stdout",
     "output_type": "stream",
     "text": [
      "  → Using default priors (no previous season data)\n"
     ]
    },
    {
     "name": "stderr",
     "output_type": "stream",
     "text": [
      "c:\\Users\\Owner\\AppData\\Local\\Programs\\Python\\Python312\\Lib\\site-packages\\pymc\\data.py:274: FutureWarning: ConstantData is deprecated. All Data variables are now mutable. Use Data instead.\n",
      "  warnings.warn(\n"
     ]
    },
    {
     "name": "stdout",
     "output_type": "stream",
     "text": [
      "  → Using default priors (no previous season data)\n"
     ]
    },
    {
     "name": "stderr",
     "output_type": "stream",
     "text": [
      "c:\\Users\\Owner\\AppData\\Local\\Programs\\Python\\Python312\\Lib\\site-packages\\pymc\\data.py:274: FutureWarning: ConstantData is deprecated. All Data variables are now mutable. Use Data instead.\n",
      "  warnings.warn(\n"
     ]
    },
    {
     "name": "stdout",
     "output_type": "stream",
     "text": [
      "  → Using default priors (no previous season data)\n"
     ]
    },
    {
     "name": "stderr",
     "output_type": "stream",
     "text": [
      "c:\\Users\\Owner\\AppData\\Local\\Programs\\Python\\Python312\\Lib\\site-packages\\pymc\\data.py:274: FutureWarning: ConstantData is deprecated. All Data variables are now mutable. Use Data instead.\n",
      "  warnings.warn(\n"
     ]
    },
    {
     "name": "stdout",
     "output_type": "stream",
     "text": [
      "  → Using default priors (no previous season data)\n"
     ]
    },
    {
     "name": "stderr",
     "output_type": "stream",
     "text": [
      "c:\\Users\\Owner\\AppData\\Local\\Programs\\Python\\Python312\\Lib\\site-packages\\pymc\\data.py:274: FutureWarning: ConstantData is deprecated. All Data variables are now mutable. Use Data instead.\n",
      "  warnings.warn(\n",
      "The rhat statistic is larger than 1.01 for some parameters. This indicates problems during sampling. See https://arxiv.org/abs/1903.08008 for details\n"
     ]
    },
    {
     "name": "stdout",
     "output_type": "stream",
     "text": [
      "  → Using default priors (no previous season data)\n"
     ]
    },
    {
     "name": "stderr",
     "output_type": "stream",
     "text": [
      "c:\\Users\\Owner\\AppData\\Local\\Programs\\Python\\Python312\\Lib\\site-packages\\pymc\\data.py:274: FutureWarning: ConstantData is deprecated. All Data variables are now mutable. Use Data instead.\n",
      "  warnings.warn(\n",
      "The rhat statistic is larger than 1.01 for some parameters. This indicates problems during sampling. See https://arxiv.org/abs/1903.08008 for details\n",
      "The effective sample size per chain is smaller than 100 for some parameters.  A higher number is needed for reliable rhat and ess computation. See https://arxiv.org/abs/1903.08008 for details\n"
     ]
    },
    {
     "name": "stdout",
     "output_type": "stream",
     "text": [
      "  → Using default priors (no previous season data)\n"
     ]
    },
    {
     "name": "stderr",
     "output_type": "stream",
     "text": [
      "c:\\Users\\Owner\\AppData\\Local\\Programs\\Python\\Python312\\Lib\\site-packages\\pymc\\data.py:274: FutureWarning: ConstantData is deprecated. All Data variables are now mutable. Use Data instead.\n",
      "  warnings.warn(\n"
     ]
    },
    {
     "name": "stdout",
     "output_type": "stream",
     "text": [
      "  → Using default priors (no previous season data)\n"
     ]
    },
    {
     "name": "stderr",
     "output_type": "stream",
     "text": [
      "c:\\Users\\Owner\\AppData\\Local\\Programs\\Python\\Python312\\Lib\\site-packages\\pymc\\data.py:274: FutureWarning: ConstantData is deprecated. All Data variables are now mutable. Use Data instead.\n",
      "  warnings.warn(\n"
     ]
    },
    {
     "name": "stdout",
     "output_type": "stream",
     "text": [
      "  → Using default priors (no previous season data)\n"
     ]
    },
    {
     "name": "stderr",
     "output_type": "stream",
     "text": [
      "c:\\Users\\Owner\\AppData\\Local\\Programs\\Python\\Python312\\Lib\\site-packages\\pymc\\data.py:274: FutureWarning: ConstantData is deprecated. All Data variables are now mutable. Use Data instead.\n",
      "  warnings.warn(\n"
     ]
    },
    {
     "name": "stdout",
     "output_type": "stream",
     "text": [
      "  → Using default priors (no previous season data)\n"
     ]
    },
    {
     "name": "stderr",
     "output_type": "stream",
     "text": [
      "c:\\Users\\Owner\\AppData\\Local\\Programs\\Python\\Python312\\Lib\\site-packages\\pymc\\data.py:274: FutureWarning: ConstantData is deprecated. All Data variables are now mutable. Use Data instead.\n",
      "  warnings.warn(\n"
     ]
    },
    {
     "name": "stdout",
     "output_type": "stream",
     "text": [
      "  → Using default priors (no previous season data)\n"
     ]
    },
    {
     "name": "stderr",
     "output_type": "stream",
     "text": [
      "c:\\Users\\Owner\\AppData\\Local\\Programs\\Python\\Python312\\Lib\\site-packages\\pymc\\data.py:274: FutureWarning: ConstantData is deprecated. All Data variables are now mutable. Use Data instead.\n",
      "  warnings.warn(\n"
     ]
    },
    {
     "name": "stdout",
     "output_type": "stream",
     "text": [
      "\n",
      "2024-2025 Results:\n",
      "Decay Rate | Avg LL    | Std LL\n",
      "-----------------------------------\n",
      "0.0001     | -3.0186 | 0.1259 *\n",
      "0.0005     | -3.0187 | 0.1262\n",
      "0.0010     | -3.0196 | 0.1277\n",
      "0.0020     | -3.0208 | 0.1301\n",
      "0.0035     | -3.0237 | 0.1356\n",
      "0.0050     | -3.0300 | 0.1441\n",
      "0.0100     | -3.0709 | 0.1804\n",
      "\n",
      "Best for 2024-2025: 0.0001 (LL=-3.0186)\n",
      "\n",
      "======================================================================\n",
      "OVERALL RESULTS ACROSS ALL SEASONS\n",
      "======================================================================\n",
      "\n",
      "Decay Rate | Overall Avg LL | Consistency (Std)\n",
      "--------------------------------------------------\n",
      "0.0001     | -3.0446      | 0.1126\n",
      "0.0005     | -3.0437      | 0.1122\n",
      "0.0010     | -3.0436      | 0.1124\n",
      "0.0020     | -3.0432      | 0.1110\n",
      "0.0035     | -3.0446      | 0.1093\n",
      "0.0050     | -3.0474      | 0.1080\n",
      "0.0100     | -3.0742      | 0.1007\n",
      "\n",
      "======================================================================\n",
      "RECOMMENDED DECAY RATE: 0.0020\n",
      "Average LL across seasons: -3.0432\n",
      "Consistency (std): 0.1110\n",
      "======================================================================\n"
     ]
    },
    {
     "data": {
      "image/png": "[encoded data removed]",
      "text/plain": [
       "<Figure size 1200x500 with 2 Axes>"
      ]
     },
     "metadata": {},
     "output_type": "display_data"
    }
   ],
   "source": [
    "if __name__ == \"__main__\":\n",
    "   results_df, summary_df = run_multi_season_test()\n",
    "   \n",
    "   # Simple visualization\n",
    "   import matplotlib.pyplot as plt\n",
    "   \n",
    "   fig, axes = plt.subplots(1, 2, figsize=(12, 5))\n",
    "   \n",
    "   # Plot 1: Average LL by decay rate for each season\n",
    "   ax1 = axes[0]\n",
    "   for season in results_df['season'].unique():\n",
    "       season_data = results_df[results_df['season'] == season]\n",
    "       ax1.plot(season_data['decay_rate'], season_data['avg_ll'], \n",
    "               'o-', label=season, markersize=6)\n",
    "   ax1.set_xlabel('Decay Rate')\n",
    "   ax1.set_ylabel('Average Log-Likelihood')\n",
    "   ax1.set_title('Performance by Season')\n",
    "   ax1.set_xscale('log')\n",
    "   ax1.legend()\n",
    "   ax1.grid(True, alpha=0.3)\n",
    "   \n",
    "   # Plot 2: Overall average with error bars\n",
    "   ax2 = axes[1]\n",
    "   ax2.errorbar(summary_df['decay_rate'], \n",
    "                summary_df['overall_avg_ll'],\n",
    "                yerr=summary_df['overall_std_ll'],\n",
    "                marker='o', markersize=8, linewidth=2, capsize=5)\n",
    "   best_idx = summary_df['overall_avg_ll'].idxmax()\n",
    "   ax2.plot(summary_df.loc[best_idx, 'decay_rate'],\n",
    "            summary_df.loc[best_idx, 'overall_avg_ll'],\n",
    "            'r*', markersize=15, label='Optimal')\n",
    "   ax2.set_xlabel('Decay Rate')\n",
    "   ax2.set_ylabel('Overall Average Log-Likelihood')\n",
    "   ax2.set_title('Combined Performance Across All Seasons')\n",
    "   ax2.set_xscale('log')\n",
    "   ax2.legend()\n",
    "   ax2.grid(True, alpha=0.3)\n",
    "   \n",
    "   plt.tight_layout()\n",
    "   plt.show()"
   ]
  }
 ],
 "metadata": {
  "kernelspec": {
   "display_name": "Python 3",
   "language": "python",
   "name": "python3"
  },
  "language_info": {
   "codemirror_mode": {
    "name": "ipython",
    "version": 3
   },
   "file_extension": ".py",
   "mimetype": "text/x-python",
   "name": "python",
   "nbconvert_exporter": "python",
   "pygments_lexer": "ipython3",
   "version": "3.12.2"
  }
 },
 "nbformat": 4,
 "nbformat_minor": 5
}
