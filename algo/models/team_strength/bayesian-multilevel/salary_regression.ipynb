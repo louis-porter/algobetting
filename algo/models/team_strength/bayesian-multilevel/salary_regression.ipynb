{
 "cells": [
  {
   "cell_type": "code",
   "execution_count": 19,
   "id": "8990f6d6",
   "metadata": {},
   "outputs": [
    {
     "data": {
      "application/vnd.microsoft.datawrangler.viewer.v0+json": {
       "columns": [
        {
         "name": "index",
         "rawType": "int64",
         "type": "integer"
        },
        {
         "name": "team",
         "rawType": "object",
         "type": "string"
        },
        {
         "name": "mean",
         "rawType": "float64",
         "type": "float"
        },
        {
         "name": "salary(infl)",
         "rawType": "int64",
         "type": "integer"
        },
        {
         "name": "year",
         "rawType": "int64",
         "type": "integer"
        },
        {
         "name": "type",
         "rawType": "object",
         "type": "string"
        },
        {
         "name": "salary_millions",
         "rawType": "float64",
         "type": "float"
        }
       ],
       "ref": "7c4e01bb-1df9-4286-9233-71d840549c7d",
       "rows": [
        [
         "0",
         "Arsenal",
         "0.217",
         "126000000",
         "2021",
         "attack",
         "126.0"
        ],
        [
         "1",
         "Aston Villa",
         "-0.08",
         "91000000",
         "2021",
         "attack",
         "91.0"
        ],
        [
         "2",
         "Brentford",
         "-0.059",
         "30500000",
         "2021",
         "attack",
         "30.5"
        ],
        [
         "3",
         "Brighton",
         "-0.118",
         "53000000",
         "2021",
         "attack",
         "53.0"
        ],
        [
         "4",
         "Burnley",
         "-0.251",
         "43600000",
         "2021",
         "attack",
         "43.6"
        ],
        [
         "5",
         "Chelsea",
         "0.235",
         "200000000",
         "2021",
         "attack",
         "200.0"
        ],
        [
         "6",
         "Crystal Palace",
         "-0.097",
         "76800000",
         "2021",
         "attack",
         "76.8"
        ],
        [
         "7",
         "Everton",
         "-0.226",
         "115000000",
         "2021",
         "attack",
         "115.0"
        ],
        [
         "8",
         "Leeds",
         "-0.163",
         "40000000",
         "2021",
         "attack",
         "40.0"
        ],
        [
         "9",
         "Leicester",
         "0.017",
         "87000000",
         "2021",
         "attack",
         "87.0"
        ],
        [
         "10",
         "Liverpool",
         "0.511",
         "165500000",
         "2021",
         "attack",
         "165.5"
        ],
        [
         "11",
         "Man City",
         "0.573",
         "180000000",
         "2021",
         "attack",
         "180.0"
        ],
        [
         "12",
         "Man United",
         "0.074",
         "249500000",
         "2021",
         "attack",
         "249.5"
        ],
        [
         "13",
         "Newcastle",
         "-0.166",
         "78600000",
         "2021",
         "attack",
         "78.6"
        ],
        [
         "14",
         "Norwich",
         "-0.492",
         "34500000",
         "2021",
         "attack",
         "34.5"
        ],
        [
         "15",
         "Southampton",
         "-0.073",
         "62600000",
         "2021",
         "attack",
         "62.6"
        ],
        [
         "16",
         "Tottenham",
         "0.255",
         "118000000",
         "2021",
         "attack",
         "118.0"
        ],
        [
         "17",
         "Watford",
         "-0.349",
         "44600000",
         "2021",
         "attack",
         "44.6"
        ],
        [
         "18",
         "West Ham",
         "0.06",
         "82200000",
         "2021",
         "attack",
         "82.2"
        ],
        [
         "19",
         "Wolves",
         "-0.213",
         "67000000",
         "2021",
         "attack",
         "67.0"
        ],
        [
         "20",
         "Arsenal",
         "-0.156",
         "126000000",
         "2021",
         "defence",
         "126.0"
        ],
        [
         "21",
         "Aston Villa",
         "-0.05",
         "91000000",
         "2021",
         "defence",
         "91.0"
        ],
        [
         "22",
         "Brentford",
         "-0.011",
         "30500000",
         "2021",
         "defence",
         "30.5"
        ],
        [
         "23",
         "Brighton",
         "-0.172",
         "53000000",
         "2021",
         "defence",
         "53.0"
        ],
        [
         "24",
         "Burnley",
         "0.053",
         "43600000",
         "2021",
         "defence",
         "43.6"
        ],
        [
         "25",
         "Chelsea",
         "-0.388",
         "200000000",
         "2021",
         "defence",
         "200.0"
        ],
        [
         "26",
         "Crystal Palace",
         "-0.2",
         "76800000",
         "2021",
         "defence",
         "76.8"
        ],
        [
         "27",
         "Everton",
         "0.181",
         "115000000",
         "2021",
         "defence",
         "115.0"
        ],
        [
         "28",
         "Leeds",
         "0.309",
         "40000000",
         "2021",
         "defence",
         "40.0"
        ],
        [
         "29",
         "Leicester",
         "0.13",
         "87000000",
         "2021",
         "defence",
         "87.0"
        ],
        [
         "30",
         "Liverpool",
         "-0.473",
         "165500000",
         "2021",
         "defence",
         "165.5"
        ],
        [
         "31",
         "Man City",
         "-0.635",
         "180000000",
         "2021",
         "defence",
         "180.0"
        ],
        [
         "32",
         "Man United",
         "0.035",
         "249500000",
         "2021",
         "defence",
         "249.5"
        ],
        [
         "33",
         "Newcastle",
         "0.123",
         "78600000",
         "2021",
         "defence",
         "78.6"
        ],
        [
         "34",
         "Norwich",
         "0.438",
         "34500000",
         "2021",
         "defence",
         "34.5"
        ],
        [
         "35",
         "Southampton",
         "0.21",
         "62600000",
         "2021",
         "defence",
         "62.6"
        ],
        [
         "36",
         "Tottenham",
         "-0.201",
         "118000000",
         "2021",
         "defence",
         "118.0"
        ],
        [
         "37",
         "Watford",
         "0.303",
         "44600000",
         "2021",
         "defence",
         "44.6"
        ],
        [
         "38",
         "West Ham",
         "0.027",
         "82200000",
         "2021",
         "defence",
         "82.2"
        ],
        [
         "39",
         "Wolves",
         "0.007",
         "67000000",
         "2021",
         "defence",
         "67.0"
        ],
        [
         "40",
         "Arsenal",
         "0.4",
         "133000000",
         "2022",
         "attack",
         "133.0"
        ],
        [
         "41",
         "Aston Villa",
         "0.023",
         "108800000",
         "2022",
         "attack",
         "108.8"
        ],
        [
         "42",
         "Bournemouth",
         "-0.272",
         "50800000",
         "2022",
         "attack",
         "50.8"
        ],
        [
         "43",
         "Brentford",
         "0.101",
         "38400000",
         "2022",
         "attack",
         "38.4"
        ],
        [
         "44",
         "Brighton",
         "0.372",
         "44900000",
         "2022",
         "attack",
         "44.9"
        ],
        [
         "45",
         "Chelsea",
         "-0.197",
         "226500000",
         "2022",
         "attack",
         "226.5"
        ],
        [
         "46",
         "Crystal Palace",
         "-0.242",
         "70500000",
         "2022",
         "attack",
         "70.5"
        ],
        [
         "47",
         "Everton",
         "-0.133",
         "86400000",
         "2022",
         "attack",
         "86.4"
        ],
        [
         "48",
         "Fulham",
         "-0.088",
         "62400000",
         "2022",
         "attack",
         "62.4"
        ],
        [
         "49",
         "Leeds",
         "-0.105",
         "61000000",
         "2022",
         "attack",
         "61.0"
        ]
       ],
       "shape": {
        "columns": 6,
        "rows": 160
       }
      },
      "text/html": [
       "<div>\n",
       "<style scoped>\n",
       "    .dataframe tbody tr th:only-of-type {\n",
       "        vertical-align: middle;\n",
       "    }\n",
       "\n",
       "    .dataframe tbody tr th {\n",
       "        vertical-align: top;\n",
       "    }\n",
       "\n",
       "    .dataframe thead th {\n",
       "        text-align: right;\n",
       "    }\n",
       "</style>\n",
       "<table border=\"1\" class=\"dataframe\">\n",
       "  <thead>\n",
       "    <tr style=\"text-align: right;\">\n",
       "      <th></th>\n",
       "      <th>team</th>\n",
       "      <th>mean</th>\n",
       "      <th>salary(infl)</th>\n",
       "      <th>year</th>\n",
       "      <th>type</th>\n",
       "      <th>salary_millions</th>\n",
       "    </tr>\n",
       "  </thead>\n",
       "  <tbody>\n",
       "    <tr>\n",
       "      <th>0</th>\n",
       "      <td>Arsenal</td>\n",
       "      <td>0.217</td>\n",
       "      <td>126000000</td>\n",
       "      <td>2021</td>\n",
       "      <td>attack</td>\n",
       "      <td>126.0</td>\n",
       "    </tr>\n",
       "    <tr>\n",
       "      <th>1</th>\n",
       "      <td>Aston Villa</td>\n",
       "      <td>-0.080</td>\n",
       "      <td>91000000</td>\n",
       "      <td>2021</td>\n",
       "      <td>attack</td>\n",
       "      <td>91.0</td>\n",
       "    </tr>\n",
       "    <tr>\n",
       "      <th>2</th>\n",
       "      <td>Brentford</td>\n",
       "      <td>-0.059</td>\n",
       "      <td>30500000</td>\n",
       "      <td>2021</td>\n",
       "      <td>attack</td>\n",
       "      <td>30.5</td>\n",
       "    </tr>\n",
       "    <tr>\n",
       "      <th>3</th>\n",
       "      <td>Brighton</td>\n",
       "      <td>-0.118</td>\n",
       "      <td>53000000</td>\n",
       "      <td>2021</td>\n",
       "      <td>attack</td>\n",
       "      <td>53.0</td>\n",
       "    </tr>\n",
       "    <tr>\n",
       "      <th>4</th>\n",
       "      <td>Burnley</td>\n",
       "      <td>-0.251</td>\n",
       "      <td>43600000</td>\n",
       "      <td>2021</td>\n",
       "      <td>attack</td>\n",
       "      <td>43.6</td>\n",
       "    </tr>\n",
       "    <tr>\n",
       "      <th>...</th>\n",
       "      <td>...</td>\n",
       "      <td>...</td>\n",
       "      <td>...</td>\n",
       "      <td>...</td>\n",
       "      <td>...</td>\n",
       "      <td>...</td>\n",
       "    </tr>\n",
       "    <tr>\n",
       "      <th>155</th>\n",
       "      <td>Nottm Forest</td>\n",
       "      <td>-0.075</td>\n",
       "      <td>66000000</td>\n",
       "      <td>2024</td>\n",
       "      <td>defence</td>\n",
       "      <td>66.0</td>\n",
       "    </tr>\n",
       "    <tr>\n",
       "      <th>156</th>\n",
       "      <td>Southampton</td>\n",
       "      <td>0.425</td>\n",
       "      <td>54100000</td>\n",
       "      <td>2024</td>\n",
       "      <td>defence</td>\n",
       "      <td>54.1</td>\n",
       "    </tr>\n",
       "    <tr>\n",
       "      <th>157</th>\n",
       "      <td>Tottenham</td>\n",
       "      <td>0.286</td>\n",
       "      <td>121100000</td>\n",
       "      <td>2024</td>\n",
       "      <td>defence</td>\n",
       "      <td>121.1</td>\n",
       "    </tr>\n",
       "    <tr>\n",
       "      <th>158</th>\n",
       "      <td>West Ham</td>\n",
       "      <td>0.142</td>\n",
       "      <td>103100000</td>\n",
       "      <td>2024</td>\n",
       "      <td>defence</td>\n",
       "      <td>103.1</td>\n",
       "    </tr>\n",
       "    <tr>\n",
       "      <th>159</th>\n",
       "      <td>Wolves</td>\n",
       "      <td>0.179</td>\n",
       "      <td>82400000</td>\n",
       "      <td>2024</td>\n",
       "      <td>defence</td>\n",
       "      <td>82.4</td>\n",
       "    </tr>\n",
       "  </tbody>\n",
       "</table>\n",
       "<p>160 rows × 6 columns</p>\n",
       "</div>"
      ],
      "text/plain": [
       "             team   mean  salary(infl)  year     type  salary_millions\n",
       "0         Arsenal  0.217     126000000  2021   attack            126.0\n",
       "1     Aston Villa -0.080      91000000  2021   attack             91.0\n",
       "2       Brentford -0.059      30500000  2021   attack             30.5\n",
       "3        Brighton -0.118      53000000  2021   attack             53.0\n",
       "4         Burnley -0.251      43600000  2021   attack             43.6\n",
       "..            ...    ...           ...   ...      ...              ...\n",
       "155  Nottm Forest -0.075      66000000  2024  defence             66.0\n",
       "156   Southampton  0.425      54100000  2024  defence             54.1\n",
       "157     Tottenham  0.286     121100000  2024  defence            121.1\n",
       "158      West Ham  0.142     103100000  2024  defence            103.1\n",
       "159        Wolves  0.179      82400000  2024  defence             82.4\n",
       "\n",
       "[160 rows x 6 columns]"
      ]
     },
     "execution_count": 19,
     "metadata": {},
     "output_type": "execute_result"
    }
   ],
   "source": [
    "import sqlite3 \n",
    "import pandas as pd\n",
    "\n",
    "db_path  = r'C:\\Users\\Owner\\dev\\algobetting\\infra\\data\\db\\fotmob.db'\n",
    "\n",
    "conn = sqlite3.connect(db_path)\n",
    "    \n",
    "    # Load match data\n",
    "df = pd.read_sql_query(\"\"\"\n",
    "\n",
    "    SELECT * FROM model_v0_salary_regression\n",
    "\n",
    "    \"\"\", conn)\n",
    "\n",
    "df['salary_millions'] = df['salary(infl)'] / 1000000\n",
    "\n",
    "\n",
    "df"
   ]
  },
  {
   "cell_type": "code",
   "execution_count": 20,
   "id": "c167a24a",
   "metadata": {},
   "outputs": [
    {
     "data": {
      "application/vnd.microsoft.datawrangler.viewer.v0+json": {
       "columns": [
        {
         "name": "index",
         "rawType": "object",
         "type": "string"
        },
        {
         "name": "mean",
         "rawType": "float64",
         "type": "float"
        },
        {
         "name": "salary_millions",
         "rawType": "float64",
         "type": "float"
        }
       ],
       "ref": "b1692015-1e84-46d7-bc89-d052da08624c",
       "rows": [
        [
         "mean",
         "1.0",
         "0.5879145090234826"
        ],
        [
         "salary_millions",
         "0.5879145090234826",
         "1.0"
        ]
       ],
       "shape": {
        "columns": 2,
        "rows": 2
       }
      },
      "text/html": [
       "<div>\n",
       "<style scoped>\n",
       "    .dataframe tbody tr th:only-of-type {\n",
       "        vertical-align: middle;\n",
       "    }\n",
       "\n",
       "    .dataframe tbody tr th {\n",
       "        vertical-align: top;\n",
       "    }\n",
       "\n",
       "    .dataframe thead th {\n",
       "        text-align: right;\n",
       "    }\n",
       "</style>\n",
       "<table border=\"1\" class=\"dataframe\">\n",
       "  <thead>\n",
       "    <tr style=\"text-align: right;\">\n",
       "      <th></th>\n",
       "      <th>mean</th>\n",
       "      <th>salary_millions</th>\n",
       "    </tr>\n",
       "  </thead>\n",
       "  <tbody>\n",
       "    <tr>\n",
       "      <th>mean</th>\n",
       "      <td>1.000000</td>\n",
       "      <td>0.587915</td>\n",
       "    </tr>\n",
       "    <tr>\n",
       "      <th>salary_millions</th>\n",
       "      <td>0.587915</td>\n",
       "      <td>1.000000</td>\n",
       "    </tr>\n",
       "  </tbody>\n",
       "</table>\n",
       "</div>"
      ],
      "text/plain": [
       "                     mean  salary_millions\n",
       "mean             1.000000         0.587915\n",
       "salary_millions  0.587915         1.000000"
      ]
     },
     "execution_count": 20,
     "metadata": {},
     "output_type": "execute_result"
    }
   ],
   "source": [
    "att_df = df[df[\"type\"] == \"attack\"]\n",
    "\n",
    "att_corr = att_df[['mean', 'salary_millions']].corr()\n",
    "\n",
    "att_corr\n"
   ]
  },
  {
   "cell_type": "code",
   "execution_count": null,
   "id": "c66517f7",
   "metadata": {},
   "outputs": [
    {
     "data": {
      "application/vnd.microsoft.datawrangler.viewer.v0+json": {
       "columns": [
        {
         "name": "index",
         "rawType": "int64",
         "type": "integer"
        },
        {
         "name": "team",
         "rawType": "object",
         "type": "string"
        },
        {
         "name": "mean",
         "rawType": "float64",
         "type": "float"
        },
        {
         "name": "salary(infl)",
         "rawType": "int64",
         "type": "integer"
        },
        {
         "name": "year",
         "rawType": "int64",
         "type": "integer"
        },
        {
         "name": "type",
         "rawType": "object",
         "type": "string"
        },
        {
         "name": "salary_millions",
         "rawType": "float64",
         "type": "float"
        }
       ],
       "ref": "0f416f47-7990-4bfb-94b4-1d68d04a42d8",
       "rows": [
        [
         "20",
         "Arsenal",
         "-0.156",
         "126000000",
         "2021",
         "defence",
         "126.0"
        ],
        [
         "21",
         "Aston Villa",
         "-0.05",
         "91000000",
         "2021",
         "defence",
         "91.0"
        ],
        [
         "22",
         "Brentford",
         "-0.011",
         "30500000",
         "2021",
         "defence",
         "30.5"
        ],
        [
         "23",
         "Brighton",
         "-0.172",
         "53000000",
         "2021",
         "defence",
         "53.0"
        ],
        [
         "24",
         "Burnley",
         "0.053",
         "43600000",
         "2021",
         "defence",
         "43.6"
        ],
        [
         "25",
         "Chelsea",
         "-0.388",
         "200000000",
         "2021",
         "defence",
         "200.0"
        ],
        [
         "26",
         "Crystal Palace",
         "-0.2",
         "76800000",
         "2021",
         "defence",
         "76.8"
        ],
        [
         "27",
         "Everton",
         "0.181",
         "115000000",
         "2021",
         "defence",
         "115.0"
        ],
        [
         "28",
         "Leeds",
         "0.309",
         "40000000",
         "2021",
         "defence",
         "40.0"
        ],
        [
         "29",
         "Leicester",
         "0.13",
         "87000000",
         "2021",
         "defence",
         "87.0"
        ],
        [
         "30",
         "Liverpool",
         "-0.473",
         "165500000",
         "2021",
         "defence",
         "165.5"
        ],
        [
         "31",
         "Man City",
         "-0.635",
         "180000000",
         "2021",
         "defence",
         "180.0"
        ],
        [
         "32",
         "Man United",
         "0.035",
         "249500000",
         "2021",
         "defence",
         "249.5"
        ],
        [
         "33",
         "Newcastle",
         "0.123",
         "78600000",
         "2021",
         "defence",
         "78.6"
        ],
        [
         "34",
         "Norwich",
         "0.438",
         "34500000",
         "2021",
         "defence",
         "34.5"
        ],
        [
         "35",
         "Southampton",
         "0.21",
         "62600000",
         "2021",
         "defence",
         "62.6"
        ],
        [
         "36",
         "Tottenham",
         "-0.201",
         "118000000",
         "2021",
         "defence",
         "118.0"
        ],
        [
         "37",
         "Watford",
         "0.303",
         "44600000",
         "2021",
         "defence",
         "44.6"
        ],
        [
         "38",
         "West Ham",
         "0.027",
         "82200000",
         "2021",
         "defence",
         "82.2"
        ],
        [
         "39",
         "Wolves",
         "0.007",
         "67000000",
         "2021",
         "defence",
         "67.0"
        ],
        [
         "60",
         "Arsenal",
         "-0.221",
         "133000000",
         "2022",
         "defence",
         "133.0"
        ],
        [
         "61",
         "Aston Villa",
         "-0.061",
         "108800000",
         "2022",
         "defence",
         "108.8"
        ],
        [
         "62",
         "Bournemouth",
         "0.251",
         "50800000",
         "2022",
         "defence",
         "50.8"
        ],
        [
         "63",
         "Brentford",
         "-0.093",
         "38400000",
         "2022",
         "defence",
         "38.4"
        ],
        [
         "64",
         "Brighton",
         "0.06",
         "44900000",
         "2022",
         "defence",
         "44.9"
        ],
        [
         "65",
         "Chelsea",
         "-0.075",
         "226500000",
         "2022",
         "defence",
         "226.5"
        ],
        [
         "66",
         "Crystal Palace",
         "-0.107",
         "70500000",
         "2022",
         "defence",
         "70.5"
        ],
        [
         "67",
         "Everton",
         "0.128",
         "86400000",
         "2022",
         "defence",
         "86.4"
        ],
        [
         "68",
         "Fulham",
         "0.105",
         "62400000",
         "2022",
         "defence",
         "62.4"
        ],
        [
         "69",
         "Leeds",
         "0.289",
         "61000000",
         "2022",
         "defence",
         "61.0"
        ],
        [
         "70",
         "Leicester",
         "0.202",
         "84800000",
         "2022",
         "defence",
         "84.8"
        ],
        [
         "71",
         "Liverpool",
         "-0.022",
         "170800000",
         "2022",
         "defence",
         "170.8"
        ],
        [
         "72",
         "Man City",
         "-0.434",
         "199000000",
         "2022",
         "defence",
         "199.0"
        ],
        [
         "73",
         "Man United",
         "-0.051",
         "242200000",
         "2022",
         "defence",
         "242.2"
        ],
        [
         "74",
         "Newcastle",
         "-0.384",
         "92300000",
         "2022",
         "defence",
         "92.3"
        ],
        [
         "75",
         "Nottm Forest",
         "0.177",
         "76750000",
         "2022",
         "defence",
         "76.75"
        ],
        [
         "76",
         "Southampton",
         "0.243",
         "62300000",
         "2022",
         "defence",
         "62.3"
        ],
        [
         "77",
         "Tottenham",
         "0.041",
         "116750000",
         "2022",
         "defence",
         "116.75"
        ],
        [
         "78",
         "West Ham",
         "0.02",
         "88900000",
         "2022",
         "defence",
         "88.9"
        ],
        [
         "79",
         "Wolves",
         "0.083",
         "67800000",
         "2022",
         "defence",
         "67.8"
        ],
        [
         "100",
         "Arsenal",
         "-0.734",
         "171500000",
         "2023",
         "defence",
         "171.5"
        ],
        [
         "101",
         "Aston Villa",
         "0.064",
         "113500000",
         "2023",
         "defence",
         "113.5"
        ],
        [
         "102",
         "Bournemouth",
         "-0.007",
         "57300000",
         "2023",
         "defence",
         "57.3"
        ],
        [
         "103",
         "Brentford",
         "-0.062",
         "46700000",
         "2023",
         "defence",
         "46.7"
        ],
        [
         "104",
         "Brighton",
         "-0.04",
         "66800000",
         "2023",
         "defence",
         "66.8"
        ],
        [
         "105",
         "Burnley",
         "0.185",
         "40800000",
         "2023",
         "defence",
         "40.8"
        ],
        [
         "106",
         "Chelsea",
         "0.021",
         "157100000",
         "2023",
         "defence",
         "157.1"
        ],
        [
         "107",
         "Crystal Palace",
         "-0.121",
         "73600000",
         "2023",
         "defence",
         "73.6"
        ],
        [
         "108",
         "Everton",
         "-0.107",
         "81300000",
         "2023",
         "defence",
         "81.3"
        ],
        [
         "109",
         "Fulham",
         "-0.001",
         "68000000",
         "2023",
         "defence",
         "68.0"
        ]
       ],
       "shape": {
        "columns": 6,
        "rows": 80
       }
      },
      "text/html": [
       "<div>\n",
       "<style scoped>\n",
       "    .dataframe tbody tr th:only-of-type {\n",
       "        vertical-align: middle;\n",
       "    }\n",
       "\n",
       "    .dataframe tbody tr th {\n",
       "        vertical-align: top;\n",
       "    }\n",
       "\n",
       "    .dataframe thead th {\n",
       "        text-align: right;\n",
       "    }\n",
       "</style>\n",
       "<table border=\"1\" class=\"dataframe\">\n",
       "  <thead>\n",
       "    <tr style=\"text-align: right;\">\n",
       "      <th></th>\n",
       "      <th>team</th>\n",
       "      <th>mean</th>\n",
       "      <th>salary(infl)</th>\n",
       "      <th>year</th>\n",
       "      <th>type</th>\n",
       "      <th>salary_millions</th>\n",
       "    </tr>\n",
       "  </thead>\n",
       "  <tbody>\n",
       "    <tr>\n",
       "      <th>20</th>\n",
       "      <td>Arsenal</td>\n",
       "      <td>-0.156</td>\n",
       "      <td>126000000</td>\n",
       "      <td>2021</td>\n",
       "      <td>defence</td>\n",
       "      <td>126.0</td>\n",
       "    </tr>\n",
       "    <tr>\n",
       "      <th>21</th>\n",
       "      <td>Aston Villa</td>\n",
       "      <td>-0.050</td>\n",
       "      <td>91000000</td>\n",
       "      <td>2021</td>\n",
       "      <td>defence</td>\n",
       "      <td>91.0</td>\n",
       "    </tr>\n",
       "    <tr>\n",
       "      <th>22</th>\n",
       "      <td>Brentford</td>\n",
       "      <td>-0.011</td>\n",
       "      <td>30500000</td>\n",
       "      <td>2021</td>\n",
       "      <td>defence</td>\n",
       "      <td>30.5</td>\n",
       "    </tr>\n",
       "    <tr>\n",
       "      <th>23</th>\n",
       "      <td>Brighton</td>\n",
       "      <td>-0.172</td>\n",
       "      <td>53000000</td>\n",
       "      <td>2021</td>\n",
       "      <td>defence</td>\n",
       "      <td>53.0</td>\n",
       "    </tr>\n",
       "    <tr>\n",
       "      <th>24</th>\n",
       "      <td>Burnley</td>\n",
       "      <td>0.053</td>\n",
       "      <td>43600000</td>\n",
       "      <td>2021</td>\n",
       "      <td>defence</td>\n",
       "      <td>43.6</td>\n",
       "    </tr>\n",
       "    <tr>\n",
       "      <th>...</th>\n",
       "      <td>...</td>\n",
       "      <td>...</td>\n",
       "      <td>...</td>\n",
       "      <td>...</td>\n",
       "      <td>...</td>\n",
       "      <td>...</td>\n",
       "    </tr>\n",
       "    <tr>\n",
       "      <th>155</th>\n",
       "      <td>Nottm Forest</td>\n",
       "      <td>-0.075</td>\n",
       "      <td>66000000</td>\n",
       "      <td>2024</td>\n",
       "      <td>defence</td>\n",
       "      <td>66.0</td>\n",
       "    </tr>\n",
       "    <tr>\n",
       "      <th>156</th>\n",
       "      <td>Southampton</td>\n",
       "      <td>0.425</td>\n",
       "      <td>54100000</td>\n",
       "      <td>2024</td>\n",
       "      <td>defence</td>\n",
       "      <td>54.1</td>\n",
       "    </tr>\n",
       "    <tr>\n",
       "      <th>157</th>\n",
       "      <td>Tottenham</td>\n",
       "      <td>0.286</td>\n",
       "      <td>121100000</td>\n",
       "      <td>2024</td>\n",
       "      <td>defence</td>\n",
       "      <td>121.1</td>\n",
       "    </tr>\n",
       "    <tr>\n",
       "      <th>158</th>\n",
       "      <td>West Ham</td>\n",
       "      <td>0.142</td>\n",
       "      <td>103100000</td>\n",
       "      <td>2024</td>\n",
       "      <td>defence</td>\n",
       "      <td>103.1</td>\n",
       "    </tr>\n",
       "    <tr>\n",
       "      <th>159</th>\n",
       "      <td>Wolves</td>\n",
       "      <td>0.179</td>\n",
       "      <td>82400000</td>\n",
       "      <td>2024</td>\n",
       "      <td>defence</td>\n",
       "      <td>82.4</td>\n",
       "    </tr>\n",
       "  </tbody>\n",
       "</table>\n",
       "<p>80 rows × 6 columns</p>\n",
       "</div>"
      ],
      "text/plain": [
       "             team   mean  salary(infl)  year     type  salary_millions\n",
       "20        Arsenal -0.156     126000000  2021  defence            126.0\n",
       "21    Aston Villa -0.050      91000000  2021  defence             91.0\n",
       "22      Brentford -0.011      30500000  2021  defence             30.5\n",
       "23       Brighton -0.172      53000000  2021  defence             53.0\n",
       "24        Burnley  0.053      43600000  2021  defence             43.6\n",
       "..            ...    ...           ...   ...      ...              ...\n",
       "155  Nottm Forest -0.075      66000000  2024  defence             66.0\n",
       "156   Southampton  0.425      54100000  2024  defence             54.1\n",
       "157     Tottenham  0.286     121100000  2024  defence            121.1\n",
       "158      West Ham  0.142     103100000  2024  defence            103.1\n",
       "159        Wolves  0.179      82400000  2024  defence             82.4\n",
       "\n",
       "[80 rows x 6 columns]"
      ]
     },
     "execution_count": 25,
     "metadata": {},
     "output_type": "execute_result"
    }
   ],
   "source": [
    "def_df = df[df[\"type\"] == \"defence\"]\n",
    "\n",
    "def_corr = def_df[['mean', 'salary_millions']].corr()\n",
    "\n",
    "def_corr"
   ]
  },
  {
   "cell_type": "code",
   "execution_count": 27,
   "id": "5072be3a",
   "metadata": {},
   "outputs": [],
   "source": [
    "import statsmodels.api as sm\n",
    "import numpy as np\n",
    "\n",
    "def fit_strength_salary_models(att_df, def_df):\n",
    "    \"\"\"Fit models to predict strength from salary for both team types\"\"\"\n",
    "    \n",
    "    # Attack teams: Strength ~ Salary\n",
    "    X_att = sm.add_constant(att_df[['salary_millions']])\n",
    "    y_att = att_df['mean']  # Strength as dependent variable\n",
    "    att_model = sm.OLS(y_att, X_att).fit()\n",
    "    \n",
    "    # Defence teams: Strength ~ Salary  \n",
    "    X_def = sm.add_constant(def_df[['salary_millions']])\n",
    "    y_def = def_df['mean']  # Strength as dependent variable\n",
    "    def_model = sm.OLS(y_def, X_def).fit()\n",
    "    \n",
    "    return att_model, def_model\n",
    "\n",
    "def predict_team_strength(salary_millions, team_type=\"attack\", att_model=None, def_model=None):\n",
    "    \"\"\"\n",
    "    Predict team strength from salary spending\n",
    "    \"\"\"\n",
    "    \n",
    "    if team_type == \"attack\":\n",
    "        model = att_model\n",
    "    elif team_type == \"defence\":\n",
    "        model = def_model\n",
    "    else:\n",
    "        raise ValueError(\"team_type must be 'attack' or 'defence'\")\n",
    "    \n",
    "    if model is None:\n",
    "        raise ValueError(f\"Must provide {team_type}_model parameter\")\n",
    "    \n",
    "    # Method 1: Direct calculation (always works)\n",
    "    const_coef = model.params['const']\n",
    "    salary_coef = model.params['salary_millions']\n",
    "    predicted_strength = const_coef + salary_coef * salary_millions\n",
    "    \n",
    "    # Method 2: Using statsmodels prediction with proper DataFrame\n",
    "    try:\n",
    "        # Create DataFrame exactly like training data structure\n",
    "        pred_data = pd.DataFrame({'salary_millions': [salary_millions]})\n",
    "        pred_data_with_const = sm.add_constant(pred_data, has_constant='add')\n",
    "        \n",
    "        prediction_obj = model.get_prediction(pred_data_with_const)\n",
    "        ci_lower, ci_upper = prediction_obj.conf_int()[0]\n",
    "        \n",
    "    except Exception as e:\n",
    "        print(f\"Confidence interval calculation failed: {e}\")\n",
    "        # Fallback: rough CI using standard error\n",
    "        se = model.bse['salary_millions'] * salary_millions + model.bse['const']\n",
    "        margin = 1.96 * se  # 95% CI\n",
    "        ci_lower = predicted_strength - margin\n",
    "        ci_upper = predicted_strength + margin\n",
    "    \n",
    "    return {\n",
    "        'predicted_strength': predicted_strength,\n",
    "        'confidence_interval': (ci_lower, ci_upper),\n",
    "        'salary_input': salary_millions,\n",
    "        'team_type': team_type,\n",
    "        'r_squared': model.rsquared,\n",
    "        'equation': f\"Strength = {salary_coef:.6f} * Salary + {const_coef:.6f}\"\n",
    "    }"
   ]
  },
  {
   "cell_type": "code",
   "execution_count": 32,
   "id": "1c74bc95",
   "metadata": {},
   "outputs": [
    {
     "data": {
      "text/plain": [
       "{'predicted_strength': 0.21083019173757922,\n",
       " 'confidence_interval': (0.13435690342816337, 0.2873034800469951),\n",
       " 'salary_input': 172.1,\n",
       " 'team_type': 'attack',\n",
       " 'r_squared': 0.3456434699203226,\n",
       " 'equation': 'Strength = 0.002722 * Salary + -0.257691'}"
      ]
     },
     "execution_count": 32,
     "metadata": {},
     "output_type": "execute_result"
    }
   ],
   "source": [
    "att_model, def_model = fit_strength_salary_models(att_df, def_df)\n",
    "\n",
    "result = predict_team_strength(172.1, \"attack\", att_model, def_model)\n",
    "\n",
    "result"
   ]
  }
 ],
 "metadata": {
  "kernelspec": {
   "display_name": "Python 3",
   "language": "python",
   "name": "python3"
  },
  "language_info": {
   "codemirror_mode": {
    "name": "ipython",
    "version": 3
   },
   "file_extension": ".py",
   "mimetype": "text/x-python",
   "name": "python",
   "nbconvert_exporter": "python",
   "pygments_lexer": "ipython3",
   "version": "3.12.2"
  }
 },
 "nbformat": 4,
 "nbformat_minor": 5
}
